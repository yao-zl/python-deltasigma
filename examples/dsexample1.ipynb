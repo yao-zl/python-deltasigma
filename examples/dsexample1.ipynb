{
 "cells": [
  {
   "cell_type": "code",
   "execution_count": null,
   "metadata": {},
   "outputs": [],
   "source": [
    "%pylab inline\n",
    "%load_ext version_information"
   ]
  },
  {
   "cell_type": "code",
   "execution_count": null,
   "metadata": {},
   "outputs": [],
   "source": [
    "from __future__ import division, print_function\n",
    "from IPython.core.display import Image\n",
    "from deltasigma import *\n",
    "import pandas as pd\n",
    "import warnings\n",
    "warnings.filterwarnings('ignore')"
   ]
  },
  {
   "cell_type": "code",
   "execution_count": null,
   "metadata": {},
   "outputs": [],
   "source": [
    "np.set_printoptions(suppress=True, precision=3)"
   ]
  },
  {
   "cell_type": "markdown",
   "metadata": {},
   "source": [
    "Delta Sigma modulator synthesis - example #1\n",
    "============================================\n",
    "\n",
    "Demonstration of the synthesis of an example delta sigma modulator,  as done in the `MATLAB Delta Sigma Toolbox`, employing its Python port `deltasigma`.\n",
    "\n",
    " * The **Noise Transfer Function** (NTF) is synthesized for a **5th-order**, **low-pass** modulator, having the following characteristics:\n",
    "\n",
    "     * A relatively low Over Sampling Ratio (OSR), equal to `32`, \n",
    "     * A 1-bit quantizer. \n",
    "     * Maximum NTF gain equal to 1.5.\n",
    "\n",
    " * For this example modulator, we select to implement the CRFB topology -- see below, for order being odd -- with a single feed-in, ie $b_n = 0\\ \\forall n > 1$ ."
   ]
  },
  {
   "cell_type": "code",
   "execution_count": null,
   "metadata": {},
   "outputs": [],
   "source": [
    "Image(url='http://python-deltasigma.readthedocs.org/en/latest/_images/CRFB.png', retina=True)"
   ]
  },
  {
   "cell_type": "markdown",
   "metadata": {},
   "source": [
    "## Set up the parameters"
   ]
  },
  {
   "cell_type": "code",
   "execution_count": null,
   "metadata": {},
   "outputs": [],
   "source": [
    "order = 5\n",
    "osr = 32\n",
    "nlev = 2\n",
    "f0 = 0.\n",
    "Hinf = 1.5\n",
    "form = 'CRFB'"
   ]
  },
  {
   "cell_type": "markdown",
   "metadata": {},
   "source": [
    "## Synthesize the NTF"
   ]
  },
  {
   "cell_type": "code",
   "execution_count": null,
   "metadata": {},
   "outputs": [],
   "source": [
    "ntf = synthesizeNTF(order, osr, 2, Hinf, f0)            # Optimized zero placement\n",
    "print(\"Synthesized a %d-order NTF, with roots:\\n\" % order)\n",
    "print(\" Zeros:\\t\\t\\t Poles:\")\n",
    "for z, p in zip(ntf[0], ntf[1]):\n",
    "    print(\"(%f, %fj)\\t(%f, %fj)\" % (np.real(z), np.imag(z), np.real(p), np.imag(p)))\n",
    "print(\"\")\n",
    "print(\"The NTF transfer function has the following expression:\\n\")\n",
    "print(pretty_lti(ntf))\n",
    "print(\"\")"
   ]
  },
  {
   "cell_type": "markdown",
   "metadata": {},
   "source": [
    "### Graphical inspection of the synthesized singularities"
   ]
  },
  {
   "cell_type": "code",
   "execution_count": null,
   "metadata": {},
   "outputs": [],
   "source": [
    "plotPZ(ntf, showlist=True)"
   ]
  },
  {
   "cell_type": "markdown",
   "metadata": {},
   "source": [
    "## Realize the NTF with the CRFB topology and create the ABCD representation"
   ]
  },
  {
   "cell_type": "code",
   "execution_count": null,
   "metadata": {},
   "outputs": [],
   "source": [
    "a, g, b, c = realizeNTF(ntf, form)\n",
    "b = np.hstack(( # Use a single feed-in for the input\n",
    "               np.atleast_1d(b[0]),\n",
    "               np.zeros((b.shape[0] - 1, ))\n",
    "             ))\n",
    "ABCD = stuffABCD(a, g, b, c, form)\n",
    "print(\"ABCD Matrix:\")\n",
    "print(ABCD)"
   ]
  },
  {
   "cell_type": "code",
   "execution_count": null,
   "metadata": {},
   "outputs": [],
   "source": [
    "DocumentNTF(ABCD, osr, f0)\n",
    "f = gcf()\n",
    "f.set_size_inches((15, 6))"
   ]
  },
  {
   "cell_type": "markdown",
   "metadata": {},
   "source": [
    "## Typical spectral characteristics"
   ]
  },
  {
   "cell_type": "code",
   "execution_count": null,
   "metadata": {},
   "outputs": [],
   "source": [
    "figure(figsize=(15,8))\n",
    "PlotExampleSpectrum(ntf, M=1, osr=osr, f0=f0)"
   ]
  },
  {
   "cell_type": "markdown",
   "metadata": {},
   "source": [
    "## Signal to Noise Ratio analysis"
   ]
  },
  {
   "cell_type": "code",
   "execution_count": null,
   "metadata": {},
   "outputs": [],
   "source": [
    "snr, amp = simulateSNR(ntf, osr, None, f0, nlev)"
   ]
  },
  {
   "cell_type": "code",
   "execution_count": null,
   "metadata": {},
   "outputs": [],
   "source": [
    "figure(figsize=(15,8))\n",
    "if nlev == 2:\n",
    "    snr_pred, amp_pred, k0, k1, se = predictSNR(ntf, osr)\n",
    "    plot(amp_pred, snr_pred, '-', label='predicted')\n",
    "plot(amp, snr,'o-.g', label='simulated')\n",
    "xlabel('Input Level (dBFS)')\n",
    "ylabel('SQNR (dB)')\n",
    "peak_snr, peak_amp = peakSNR(snr, amp)\n",
    "msg = 'peak SQNR = %4.1fdB  \\n@ amp = %4.1fdB  ' % (peak_snr, peak_amp)\n",
    "text(peak_amp-10,peak_snr,msg, horizontalalignment='right', verticalalignment='center');\n",
    "msg = 'OSR = %d ' % osr\n",
    "text(-2, 5, msg, horizontalalignment='right');\n",
    "figureMagic([-100, 0], 10, None, [0, 100], 10, None, [12, 6], 'Time-Domain Simulations')\n",
    "legend(loc=2);"
   ]
  },
  {
   "cell_type": "markdown",
   "metadata": {},
   "source": [
    "## Dynamic range scaling\n",
    "\n",
    "Keep the integrator outputs within their working range -- to avoid waveform clipping and instabilities.\n",
    "\n",
    "The ABCD matrix is scaled opportunely, then the effectiveness of the dynamic range scaling is verified and the state maxima are plotted for different amplitudes."
   ]
  },
  {
   "cell_type": "code",
   "execution_count": null,
   "metadata": {},
   "outputs": [],
   "source": [
    "print('Doing dynamic range scaling... ')\n",
    "ABCD0 = ABCD.copy()\n",
    "ABCD, umax, S = scaleABCD(ABCD0, nlev, f0)\n",
    "print('Done.')\n",
    "print(\"Maximum input magnitude: %.3f\" % umax)"
   ]
  },
  {
   "cell_type": "code",
   "execution_count": null,
   "metadata": {},
   "outputs": [],
   "source": [
    "print('Verifying dynamic range scaling... ')\n",
    "u = np.linspace(0, 0.95*umax, 30)\n",
    "N = 1e4\n",
    "N0 = 50\n",
    "test_tone = np.cos(2*np.pi*f0*np.arange(N))\n",
    "test_tone[:N0] = test_tone[:N0]*(0.5 - 0.5*np.cos(2*np.pi/N0*np.arange(N0)))\n",
    "maxima = np.zeros((order, u.shape[0]))\n",
    "for i in np.arange(u.shape[0]):\n",
    "    ui = u[i]\n",
    "    v, xn, xmax, y = simulateDSM(ui*test_tone, ABCD, nlev)\n",
    "    maxima[:, i] = xmax[:, 0]\n",
    "    if (xmax > 1e2).any(): \n",
    "        print('Warning, umax from scaleABCD was too high.')\n",
    "        umax = ui\n",
    "        u = u[:i]\n",
    "        maxima = maxima[:, :i]\n",
    "        break\n",
    "print('Done.')\n",
    "print(\"Maximum DC input level: %.3f\" % umax)"
   ]
  },
  {
   "cell_type": "code",
   "execution_count": null,
   "metadata": {},
   "outputs": [],
   "source": [
    "colors = get_cmap('jet')(np.linspace(0, 1.0, order))\n",
    "for i in range(order):\n",
    "    plot(u,maxima[i,:], 'o-', color=colors[i], label='State %d' % (i+1))\n",
    "grid(True)\n",
    "#text(umax/2, 0.05, 'DC input', horizontalalignment='center', verticalalignment='center')\n",
    "figureMagic([0, umax], None, None, [0, 1] , 0.1, 2, [12, 6], 'State Maxima')\n",
    "xlabel('DC input')\n",
    "ylabel('Maxima')\n",
    "legend(loc='best');"
   ]
  },
  {
   "cell_type": "markdown",
   "metadata": {},
   "source": [
    "## Conclusions\n",
    "### Scaled coefficients"
   ]
  },
  {
   "cell_type": "code",
   "execution_count": null,
   "metadata": {},
   "outputs": [],
   "source": [
    "a, g, b, c = mapABCD(ABCD, form)"
   ]
  },
  {
   "cell_type": "code",
   "execution_count": null,
   "metadata": {},
   "outputs": [],
   "source": [
    "adc = {\n",
    "       'order':order,\n",
    "       'osr':osr,\n",
    "       'nlev':nlev,\n",
    "       'f0':f0,\n",
    "       'ntf':ntf,\n",
    "       'ABCD':ABCD,\n",
    "       'umax':umax,\n",
    "       'peak_snr':peak_snr,\n",
    "       'form':form,\n",
    "       'coefficients':{\n",
    "                       'a':a,\n",
    "                       'g':g,\n",
    "                       'b':b,\n",
    "                       'c':c\n",
    "                      }\n",
    "      }"
   ]
  },
  {
   "cell_type": "markdown",
   "metadata": {},
   "source": [
    "### Final ADC coefficients"
   ]
  },
  {
   "cell_type": "code",
   "execution_count": null,
   "metadata": {},
   "outputs": [],
   "source": [
    "t_sz = max([len(adc['coefficients']['a']), len(adc['coefficients']['g']), \\\n",
    "            len(adc['coefficients']['b']), len(adc['coefficients']['c'])])\n",
    "t_nan = [np.nan for x in range(t_sz)]\n",
    "t = {'Coefficients' : ['#1', '#2', '#3', '#4', '#5', '#6'],\n",
    "     'DAC feedback: a(n)' : (adc['coefficients']['a'].tolist()+t_nan)[:t_sz],\n",
    "     'Resonator feedback: g(n)' : (adc['coefficients']['g'].tolist()+t_nan)[:t_sz],\n",
    "     'Feed-in: b(n)' : (adc['coefficients']['b'].tolist()+t_nan)[:t_sz],\n",
    "     'Interstage: c(n)' : (adc['coefficients']['c'].tolist()+t_nan)[:t_sz]}\n",
    "pd.DataFrame(t)"
   ]
  },
  {
   "cell_type": "markdown",
   "metadata": {},
   "source": [
    "### System version information"
   ]
  },
  {
   "cell_type": "code",
   "execution_count": null,
   "metadata": {},
   "outputs": [],
   "source": [
    "%version_information numpy, scipy, matplotlib, deltasigma, cython"
   ]
  },
  {
   "cell_type": "code",
   "execution_count": null,
   "metadata": {},
   "outputs": [],
   "source": []
  }
 ],
 "metadata": {
  "kernelspec": {
   "display_name": "Python 3",
   "language": "python",
   "name": "python3"
  },
  "language_info": {
   "codemirror_mode": {
    "name": "ipython",
    "version": 3
   },
   "file_extension": ".py",
   "mimetype": "text/x-python",
   "name": "python",
   "nbconvert_exporter": "python",
   "pygments_lexer": "ipython3",
   "version": "3.7.4"
  }
 },
 "nbformat": 4,
 "nbformat_minor": 1
}
