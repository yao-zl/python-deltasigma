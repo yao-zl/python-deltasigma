{
 "cells": [
  {
   "cell_type": "code",
   "execution_count": null,
   "metadata": {},
   "outputs": [],
   "source": [
    "%pylab inline\n",
    "%load_ext version_information"
   ]
  },
  {
   "cell_type": "code",
   "execution_count": null,
   "metadata": {},
   "outputs": [],
   "source": [
    "from __future__ import division, print_function\n",
    "import deltasigma as ds\n",
    "from scipy.signal import lti, ss2zpk, lfilter"
   ]
  },
  {
   "cell_type": "markdown",
   "metadata": {},
   "source": [
    "# MASH 2-2 cascade\n",
    "## Introduction"
   ]
  },
  {
   "cell_type": "markdown",
   "metadata": {},
   "source": [
    "We will simulate here a 2-2 MASH cascade.\n",
    "\n",
    "The example is taken from Richard Schreier. The package used here -- `python-deltasigma` -- is a port of R. Schreier's MATLAB Delta-Sigma toolbox, available at: http://www.mathworks.com/matlabcentral/fileexchange. The credit goes to him for all algorithms employed."
   ]
  },
  {
   "cell_type": "markdown",
   "metadata": {},
   "source": [
    "## Modulator description"
   ]
  },
  {
   "cell_type": "markdown",
   "metadata": {},
   "source": [
    "Each modulator in the cascade is described by the ABCD matrix:"
   ]
  },
  {
   "cell_type": "code",
   "execution_count": null,
   "metadata": {},
   "outputs": [],
   "source": [
    "ABCD1 = [[1., 0., 1., -1.],\n",
    "         [1., 1., 0., -2.],\n",
    "         [0., 1., 0., 0.]]\n",
    "ABCD1 = np.array(ABCD1, dtype=np.float32)"
   ]
  },
  {
   "cell_type": "markdown",
   "metadata": {},
   "source": [
    "Each quantizer has 9 levels.\n",
    "\n",
    "We need to describe the modulator in terms of its ABCD matrix:"
   ]
  },
  {
   "cell_type": "code",
   "execution_count": null,
   "metadata": {},
   "outputs": [],
   "source": [
    "ABCD = [[1, 0, 0, 0, 1, -1, 0],\n",
    "        [1, 1, 0, 0, 0, -2, 0],\n",
    "        [0, 1, 1, 0, 0, 0, -1],\n",
    "        [0, 0, 1, 1, 0, 0, -2],\n",
    "        [0, 1, 0, 0, 0, 0, 0],\n",
    "        [0, 0, 0, 1, 0, 0, 0]]\n",
    "ABCD = np.array(ABCD, dtype=np.float_)"
   ]
  },
  {
   "cell_type": "markdown",
   "metadata": {},
   "source": [
    "The modulator will have two quantizer, each of them having 9 levels, or slightly more than 3 bit. For this reason `nlev` is set to an array."
   ]
  },
  {
   "cell_type": "code",
   "execution_count": null,
   "metadata": {},
   "outputs": [],
   "source": [
    "nlev = [9, 9]"
   ]
  },
  {
   "cell_type": "markdown",
   "metadata": {},
   "source": [
    "## Transfer functions\n",
    "\n",
    "We can now calculate the transfer functions associated with the modulator.\n",
    "\n",
    "Notice there will be 6 of them, **4 NTFs**:\n",
    "\n",
    "1. $NTF_{0,0}$: from the quantization noise injected by the 1st quantizer, to the output of the 1st DSM.\n",
    "2. $NTF_{1,0}$: from the quantization noise injected by the 1st quantizer, to the output of the 2nd DSM.\n",
    "3. $NTF_{1,1}$: from the quantization noise injected by the 2nd quantizer, to the output of the 2nd DSM.\n",
    "4. $NTF_{0,1}$: Theoretically it also exists a transfer function from the quantization noise injected by the 2nd quantizer, to the output of the 1st DSM. Since the signal connections between the blocks are unidirectional, the noise added downstream cannot affect the signals upstream, and this transfer function will be null.\n",
    "\n",
    "And **2 STFs**:\n",
    "\n",
    "1. $STF_0$: From the signal input to the output of the 1st DSM.\n",
    "2. $STF_1$: From the signal input to the output of the 2nd DSM."
   ]
  },
  {
   "cell_type": "code",
   "execution_count": null,
   "metadata": {},
   "outputs": [],
   "source": [
    "k = [1., 1.]\n",
    "ntfs, stfs = ds.calculateTF(ABCD, k)"
   ]
  },
  {
   "cell_type": "markdown",
   "metadata": {},
   "source": [
    "### Noise transfer to the first output "
   ]
  },
  {
   "cell_type": "code",
   "execution_count": null,
   "metadata": {},
   "outputs": [],
   "source": [
    "print(\"NTF_00:\\n\")\n",
    "print(ds.pretty_lti(ntfs[0, 0]))"
   ]
  },
  {
   "cell_type": "code",
   "execution_count": null,
   "metadata": {},
   "outputs": [],
   "source": [
    "print(\"NTF_01:\\n\")\n",
    "print(ds.pretty_lti(ntfs[0, 1]))"
   ]
  },
  {
   "cell_type": "markdown",
   "metadata": {},
   "source": [
    "### Noise transfer to the second output"
   ]
  },
  {
   "cell_type": "code",
   "execution_count": null,
   "metadata": {},
   "outputs": [],
   "source": [
    "print(\"NTF_10:\\n\")\n",
    "print(ds.pretty_lti(ntfs[1, 0]))"
   ]
  },
  {
   "cell_type": "code",
   "execution_count": null,
   "metadata": {},
   "outputs": [],
   "source": [
    "print(\"NTF_11:\\n\")\n",
    "print(ds.pretty_lti(ntfs[1, 1]))"
   ]
  },
  {
   "cell_type": "markdown",
   "metadata": {},
   "source": [
    "### NTF pole-zero plots"
   ]
  },
  {
   "cell_type": "code",
   "execution_count": null,
   "metadata": {},
   "outputs": [],
   "source": [
    "figure(figsize=(20, 6))\n",
    "subplot(131)\n",
    "title(\"$NTF_{0,0}$\")\n",
    "ds.plotPZ(ntfs[0, 0], showlist=True)\n",
    "subplot(132)\n",
    "title(\"$NTF_{1,0}$\")\n",
    "ds.plotPZ(ntfs[1, 0], showlist=True)\n",
    "subplot(133)\n",
    "title(\"$NTF_{1,1}$\")\n",
    "ds.plotPZ(ntfs[1, 1], showlist=True)"
   ]
  },
  {
   "cell_type": "markdown",
   "metadata": {},
   "source": [
    "## Signal transfer functions"
   ]
  },
  {
   "cell_type": "code",
   "execution_count": null,
   "metadata": {},
   "outputs": [],
   "source": [
    "print(\"STF_0:\\n\")\n",
    "print(ds.pretty_lti(stfs[0]))\n",
    "print(\"\\n\\nSTF_1:\\n\")\n",
    "print(ds.pretty_lti(stfs[1]))"
   ]
  },
  {
   "cell_type": "markdown",
   "metadata": {},
   "source": [
    "### STF pole-zero plots"
   ]
  },
  {
   "cell_type": "code",
   "execution_count": null,
   "metadata": {},
   "outputs": [],
   "source": [
    "figure(figsize=(13, 4))\n",
    "subplot(121)\n",
    "title(\"$STF_{0}$\")\n",
    "ds.plotPZ(stfs[0], showlist=True)\n",
    "subplot(122)\n",
    "title(\"$STF_{1}$\")\n",
    "ds.plotPZ(stfs[1], showlist=True)"
   ]
  },
  {
   "cell_type": "markdown",
   "metadata": {},
   "source": [
    "## Compensation of the quantization noise\n",
    "\n",
    "Overall, the outputs $V_1$ and $V_2$ are given by:\n",
    "\n",
    "$$V_1 = u\\,z^{-2}+(1 - z^{-1})^2\\,e_1$$ \n",
    "\n",
    "$$V_2 = u\\, z^{-4} -2 (1 - 0.5z^{-1})\\,z^{-3}\\,e_1 +(1 - z^{-1})^2\\,e_2 $$\n",
    "\n",
    "It can be shown that, combining $V_1$ and $V_2$, multipliying each of them repectively by:\n",
    "\n",
    "$$M_1 = z^{-3} - 2z^{-4}$$\n",
    "\n",
    "and\n",
    "\n",
    "$$M_2 = (1 - z^{-1})^2 $$\n",
    "\n",
    "and then summing the result, gives an overall output $V_{OUT}$ with expression:\n",
    "\n",
    "$$V_{TOT} = M_1V_1 + M_2V_2 = u\\,z^{-4} + (1 - z^{-1})^4e_2.$$\n",
    "\n",
    "The terms in $e_1$ do not appear in the above equation as they cancel out, the second modulator allows for the compensation of the quantization noise introduced by the first. Overall, as it can be seen by the above equation, the system provides fourth order noise shaping by employing two second order DS loops.\n",
    "\n",
    "We briefly verify that numerically:"
   ]
  },
  {
   "cell_type": "code",
   "execution_count": null,
   "metadata": {},
   "outputs": [],
   "source": [
    "def zpk_multiply(a, b):\n",
    "    za, pa, ka = ds._utils._get_zpk(a)\n",
    "    zb, pb, kb = ds._utils._get_zpk(b)\n",
    "    pa = pa.tolist() if hasattr(pa, 'tolist') else pa\n",
    "    pb = pb.tolist() if hasattr(pb, 'tolist') else pb\n",
    "    za = za.tolist() if hasattr(za, 'tolist') else za\n",
    "    zb = zb.tolist() if hasattr(zb, 'tolist') else zb\n",
    "    return ds.cancelPZ((za+zb, pa+pb, ka*kb))\n",
    "\n",
    "v1n = zpk_multiply(ntfs[0, 0], ([2, -1], [1, 0, 0, 0, 0]))\n",
    "v2n = zpk_multiply(ntfs[1, 0], ([1, 1], [0, 0], 1))\n",
    "ntf_eq = zpk_multiply(ntfs[1, 1], ntfs[1, 1])\n",
    "# compute v1n/v2n and check that it is equal to -1\n",
    "res = zpk_multiply(v1n, (ds._utils._get_zpk(v2n)[1], ds._utils._get_zpk(v2n)[0], 1./ds._utils._get_zpk(v2n)[2]))\n",
    "print(\"The quantization noise cancels out: %s\" % (int(ds.pretty_lti(res)) == -1))"
   ]
  },
  {
   "cell_type": "markdown",
   "metadata": {},
   "source": [
    "The improvement in the NTF of the cascaded system may be better visualized plotting the spectras:"
   ]
  },
  {
   "cell_type": "code",
   "execution_count": null,
   "metadata": {},
   "outputs": [],
   "source": [
    "figure(figsize=(16, 6))\n",
    "subplot(121)\n",
    "ds.figureMagic(name='$NTF_{0,0} = NTF_{1,1}$')\n",
    "ds.PlotExampleSpectrum(ntfs[1, 1], M=31)\n",
    "ylabel('dBFS/NBW')\n",
    "subplot(122)\n",
    "ds.figureMagic(name='$M_1NTF_{0,0}+M_2\\left(NTF_{1,0} + NTF_{1,1}\\\\right) = NTF_{0,0}^2$')\n",
    "ds.PlotExampleSpectrum(ntf_eq, M=31)\n",
    "#ds.PlotExampleSpectrum(ntfs[0, 0], M=31)\n",
    "tight_layout()"
   ]
  },
  {
   "cell_type": "markdown",
   "metadata": {},
   "source": [
    "## Numerical simulation of the 2-2 cascade and SNR improvement"
   ]
  },
  {
   "cell_type": "markdown",
   "metadata": {},
   "source": [
    "Previously we simulated the NTF of a single modulator and the *expected* equivalent NTF when the two outputs are filtered and combined. Here we simulate the cascade of modulators with the ABCD matrix, computing their outputs $v_1$ and $v_2$, which are then numerically filtered and combined. Lastly, we check that the SNR improvement is as expected.\n",
    "\n",
    "Notice we needed to scale down the amplitude of the input sine since a sine wave at -3dBFS was pushing the modulator to instability."
   ]
  },
  {
   "cell_type": "markdown",
   "metadata": {},
   "source": [
    "The filtering transfer functions $M_1$ and $M_2$ need to be expressed in terms of coefficients of $z^{-1}$ to be passed to `scipy`'s `lfilter`.\n",
    "\n",
    "The coefficients are:"
   ]
  },
  {
   "cell_type": "code",
   "execution_count": null,
   "metadata": {},
   "outputs": [],
   "source": [
    "filtM1 = [0., 0., 0., 2., -1.]\n",
    "filtM2 = [1., -2., 1.]"
   ]
  },
  {
   "cell_type": "code",
   "execution_count": null,
   "metadata": {},
   "outputs": [],
   "source": [
    "figure(figsize=(16, 6))\n",
    "M = nlev[0] - 1\n",
    "osr = 64\n",
    "f0 = 0.\n",
    "f1, f2 = ds.ds_f1f2(OSR=64, f0=0., complex_flag=False)\n",
    "delta = 2\n",
    "Amp = ds.undbv(-3) # Test tone amplitude, relative to full-scale.\n",
    "f = 0.3 # will be adjusted to a bin\n",
    "N = 2**12\n",
    "f1_bin = int(np.round(f1*N))\n",
    "f2_bin = int(np.round(f2*N))\n",
    "fin = int(np.round(((1 - f)/2*f1 + (f + 1)/2*f2) * N))\n",
    "# input sine\n",
    "t = np.arange(0, N).reshape((1, -1))\n",
    "u = Amp*M*np.cos((2*np.pi/N)*fin*t)\n",
    "# simulate! don't forget to pass a list (or tuple or ndarray)\n",
    "# as nlev value or the simulation will not be aware of the\n",
    "# multiple quantizers\n",
    "vx, _, xmax, y = ds.simulateDSM(u, ABCD, nlev=nlev)\n",
    "# separate output #1 and output #2\n",
    "v1 = vx[0, :]\n",
    "v2 = vx[1, :]\n",
    "# filter and combine\n",
    "vf = lfilter(filtM1, [1.], v1) + lfilter(filtM2, [1.], v2)\n",
    "# compute the spectra\n",
    "window = ds.ds_hann(N)\n",
    "NBW = 1.5/N\n",
    "spec0 = np.fft.fft(vf*window)/(M*N/2)/ds.undbv(-6)\n",
    "spec1 = np.fft.fft(v1*window)/(M*N/2)/ds.undbv(-6)\n",
    "spec2 = np.fft.fft(v1*window)/(M*N/2)/ds.undbv(-6)\n",
    "freq = np.linspace(0, 0.5, int(N/2) + 1)\n",
    "plt.plot(freq, ds.dbv(spec0[:int(N/2) + 1]), 'c', linewidth=1, label='V1')\n",
    "plt.plot(freq, ds.dbv(spec2[:int(N/2) + 1]), '#fb8b00', linewidth=1, label='VF')\n",
    "\n",
    "# smooth, calculate the theorethical response and the SNR for VF\n",
    "spec0_smoothed = ds.circ_smooth(np.abs(spec0)**2., 16)\n",
    "plt.plot(freq, ds.dbp(spec0_smoothed[:int(N/2) + 1]), 'b', linewidth=3)\n",
    "Snn0 = np.abs(ds.evalTF(ntf_eq, np.exp(2j*np.pi*freq)))**2 * 2/12*(delta/M)**2\n",
    "plt.plot(freq, ds.dbp(Snn0*NBW), 'm', linewidth=1)\n",
    "snr0 = ds.calculateSNR(spec0[f1_bin:f2_bin + 1], fin - f1_bin)\n",
    "msg = 'VF:\\nSQNR  =  %.1fdB\\n @ A = %.1fdBFS & osr = %.0f\\n' % \\\n",
    "      (snr0, ds.dbv(spec0[fin]), osr)\n",
    "plt.text(f0 + 1 / osr, - 15, msg, horizontalalignment='left',\n",
    "         verticalalignment='center')\n",
    "\n",
    "# smooth, calculate the theorethical response and the SNR for V1\n",
    "spec1_smoothed = ds.circ_smooth(np.abs(spec1)**2., 16)\n",
    "plt.plot(freq, ds.dbp(spec1_smoothed[:int(N/2) + 1]), '#d40000', linewidth=3)\n",
    "Snn1 = np.abs(ds.evalTF(ntfs[0, 0], np.exp(2j*np.pi*freq)))**2 * 2/12*(delta/M)**2\n",
    "plt.plot(freq, ds.dbp(Snn1*NBW), 'm', linewidth=1)\n",
    "snr1 = ds.calculateSNR(spec1[f1_bin:f2_bin + 1], fin - f1_bin)\n",
    "msg = 'V1:\\nSQNR  =  %.1fdB\\n @ A = %.1fdBFS & osr = %.0f\\n' % \\\n",
    "      (snr1, ds.dbv(spec1[fin]), osr)\n",
    "plt.text(f0 + 1/osr, - 15-30, msg, horizontalalignment='left',\n",
    "         verticalalignment='center')\n",
    "\n",
    "plt.text(0.5, - 135, 'NBW = %.1e ' % NBW, horizontalalignment='right',\n",
    "         verticalalignment='bottom')\n",
    "ds.figureMagic((0, 0.5), 1./16, None, (-160, 0), 10, None)\n",
    "legend()\n",
    "title(\"Spectra\"); xlabel(\"Normalized frequency $f \\\\rightarrow 1$\");ylabel(\"dBFS/NBW\");"
   ]
  },
  {
   "cell_type": "code",
   "execution_count": null,
   "metadata": {},
   "outputs": [],
   "source": [
    "print(\"Overall the SNR improved by %g (!) at OSR=%d.\" % (snr0-snr1, osr))"
   ]
  },
  {
   "cell_type": "markdown",
   "metadata": {},
   "source": [
    "Notice that, as it often happen, it is not immediate to see by eye that the composed signal $v_f$ has better SNR than $v_1$ (or $v_2$).\n",
    "\n",
    "In fact, consider the following plot of the signals from which the above spectra and SNRs were calculated:"
   ]
  },
  {
   "cell_type": "code",
   "execution_count": null,
   "metadata": {},
   "outputs": [],
   "source": [
    "figure(figsize=(14, 6))\n",
    "plot(vf[100:800], label='$v_f$')\n",
    "plot(v1[100:800], label='$v_1$')\n",
    "plot(u[:, 100:800].T, 'r', label='$u$')\n",
    "xlabel('sample #'); legend();"
   ]
  },
  {
   "cell_type": "markdown",
   "metadata": {},
   "source": [
    "## Conclusions\n",
    "\n",
    "This notebook showed how it is possible, in the case of a Noise Shaping Multi-stage (MASH) cascade, to: \n",
    "* calculate the signal and noise transfer functions, \n",
    "* simulate the topology,\n",
    "* filter and combine the outputs and\n",
    "* evaluate the SNR improvement,\n",
    "\n",
    "with `python-deltasigma`."
   ]
  },
  {
   "cell_type": "code",
   "execution_count": null,
   "metadata": {},
   "outputs": [],
   "source": [
    "%version_information numpy, scipy, matplotlib, deltasigma"
   ]
  },
  {
   "cell_type": "code",
   "execution_count": null,
   "metadata": {},
   "outputs": [],
   "source": []
  }
 ],
 "metadata": {
  "kernelspec": {
   "display_name": "Python 3",
   "language": "python",
   "name": "python3"
  },
  "language_info": {
   "codemirror_mode": {
    "name": "ipython",
    "version": 3
   },
   "file_extension": ".py",
   "mimetype": "text/x-python",
   "name": "python",
   "nbconvert_exporter": "python",
   "pygments_lexer": "ipython3",
   "version": "3.7.4"
  }
 },
 "nbformat": 4,
 "nbformat_minor": 1
}
