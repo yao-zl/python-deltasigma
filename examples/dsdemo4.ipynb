{
 "cells": [
  {
   "cell_type": "code",
   "execution_count": null,
   "metadata": {},
   "outputs": [],
   "source": [
    "%pylab inline\n",
    "%load_ext version_information"
   ]
  },
  {
   "cell_type": "code",
   "execution_count": null,
   "metadata": {},
   "outputs": [],
   "source": [
    "from __future__ import division, print_function\n",
    "from IPython.core.display import HTML\n",
    "from deltasigma import *"
   ]
  },
  {
   "cell_type": "markdown",
   "metadata": {},
   "source": [
    "Audio demo of mod1 and mod2 - demo #4\n",
    "=====================================\n",
    "\n",
    "Demonstration of the first and second order modulators, as in `dsdemo4.m` in the **MATLAB Delta Sigma Toolbox**, albeit this demo employs its Python port **`deltasigma`**.\n",
    "\n",
    "Port written by G. Venturini. First version Jan 1st, 2014. *Happy new year!!*\n",
    "\n",
    "## Introduction\n",
    "\n",
    " * The user selects:\n",
    "    * A modulator. It may be the simple `mod1` or `mod2`, or a user specified modulator.\n",
    "    * The source (sine, ramp or file).\n",
    "    * The $\\mathrm{sinc}^n$ filter order $n$ and decimation factor.\n",
    " * The output signal and quantization error are evaluated.\n",
    " * The signals are passed through the decimation filter.\n",
    "\n",
    "Input, output and quantization error are compared in terms of time evolution, spectra and played out aloud."
   ]
  },
  {
   "cell_type": "markdown",
   "metadata": {},
   "source": [
    "#### Options and utility functions\n",
    "You may skip to the following section"
   ]
  },
  {
   "cell_type": "code",
   "execution_count": null,
   "metadata": {},
   "outputs": [],
   "source": [
    "plotsize = (20, 4) #The plot size in inches. Reduce for low res/small screens"
   ]
  },
  {
   "cell_type": "code",
   "execution_count": null,
   "metadata": {},
   "outputs": [],
   "source": [
    "# An in-browser HTML5 audio player\n",
    "# Notice there is an audio player in the dev branch of iPython,\n",
    "# it is unlikely that as of today Jan 1st, 2014 many people have access to it\n",
    "# for that reason, the following function is used instead.\n",
    "# It is originally from the notebook 'the sound of Hydrogen' by 'filmor', with small modifications.\n",
    "# http://nbviewer.ipython.org/url/gist.github.com/filmor/c7ae1a867fc9058ffcd4/raw/91ce69c1400540ed39f68bd92234abfb1dc2ae70/tone-generator.ipynb\n",
    "from io import BytesIO\n",
    "import base64, struct\n",
    "\n",
    "def wavPlayer(data, rate, scale=False, autoplay=False):\n",
    "    \"\"\"This method will display html 5 player for compatible browser with \n",
    "    embedded base64-encoded WAV audio data.\n",
    "\n",
    "    Parameters :\n",
    "    ------------\n",
    "    data : 1d np.ndarray containing the audio data to be played\n",
    "    rate : the data rate in Hz\n",
    "    scale : if set to True, the audio signal is amplified to cover the full scale.\n",
    "    \"\"\"\n",
    "    if np.max(abs(data)) > 1 or scale:\n",
    "        data = data/np.max(abs(data))\n",
    "    data = (2**13*data).astype(np.int16)\n",
    "    \n",
    "    buffer = BytesIO()\n",
    "    buffer.write(b'RIFF')\n",
    "    buffer.write(b'\\x00\\x00\\x00\\x00')\n",
    "    buffer.write(b'WAVE')\n",
    "    \n",
    "    buffer.write(b'fmt ')\n",
    "    if data.ndim == 1:\n",
    "        noc = 1\n",
    "    else:\n",
    "        noc = data.shape[1]\n",
    "    \n",
    "    bits = data.dtype.itemsize * 8\n",
    "    sbytes = rate*(bits // 8)*noc\n",
    "    ba = noc * (bits // 8)\n",
    "    buffer.write(struct.pack('<ihHIIHH', 16, 1, noc, rate, sbytes, ba, bits))\n",
    "\n",
    "    # data chunk\n",
    "    buffer.write(b'data')\n",
    "    buffer.write(struct.pack('<i', data.nbytes))\n",
    "\n",
    "    if data.dtype.byteorder == '>' or (data.dtype.byteorder == '=' and sys.byteorder == 'big'):\n",
    "        data = data.byteswap()\n",
    "\n",
    "    buffer.write(data.astype(np.int16).tostring())\n",
    "\n",
    "    # Determine file size and place it in correct position at start of the file.\n",
    "    size = buffer.tell()\n",
    "    buffer.seek(4)\n",
    "    buffer.write(struct.pack('<i', size-8))\n",
    "    \n",
    "    val = buffer.getvalue()\n",
    "    autoplay = \" autoplay=\\\"autoplay\\\"\"*autoplay + \"\"\n",
    "    \n",
    "    src = \"\"\"<audio controls=\"controls\" style=\"width:600px\"{autoplay}>\n",
    "      <source controls src=\"data:audio/wav;base64,{base64}\" type=\"audio/wav\" />\n",
    "      Your browser does not support the audio element.\n",
    "    </audio>\"\"\".format(base64=base64.b64encode(val).decode(\"ascii\"), autoplay=autoplay)\n",
    "    display(HTML(src))"
   ]
  },
  {
   "cell_type": "markdown",
   "metadata": {},
   "source": [
    "## Parameters"
   ]
  },
  {
   "cell_type": "markdown",
   "metadata": {},
   "source": [
    "### Source type\n",
    "Set the `SourceType` flag, which has the following meaning:\n",
    "\n",
    "* `0`: sine wave, see below for amplitude and frequency values.\n",
    "* `1`: ramp from -.7 to +.7.\n",
    "* `2`: audio file: a 9 seconds long recording of a tenor sax playing. Please make sure you download and save the file `sax.wav.b64` first, as explained below."
   ]
  },
  {
   "cell_type": "code",
   "execution_count": null,
   "metadata": {},
   "outputs": [],
   "source": [
    "SourceType = 0 # change the SourceType"
   ]
  },
  {
   "cell_type": "markdown",
   "metadata": {},
   "source": [
    "If you set `SourceType = 0` above, here you can specify the amplitude and frequency of the sine wave.\n",
    "\n",
    "Otherwise, the following values are ignored."
   ]
  },
  {
   "cell_type": "code",
   "execution_count": null,
   "metadata": {},
   "outputs": [],
   "source": [
    "SineAmp = .4\n",
    "SineFreq = .5e3"
   ]
  },
  {
   "cell_type": "markdown",
   "metadata": {},
   "source": [
    "If you set `SourceType = 1` (ramp), there is nothing you need to do.\n",
    "\n",
    "if you set `SourceType = 2` (file), make sure you download the file `sax.wav.b64` included with this notebook and save it to the current working directory."
   ]
  },
  {
   "cell_type": "markdown",
   "metadata": {},
   "source": [
    "### Modulator order\n",
    "Select a modulator order equal to `1` to have the `mod1` structure, modulator order equal to 2 provides `mod2`.\n",
    "\n",
    "**Note:** two convenience functions `mod1()` and `mod2()` are available to quickly access NTF, STF and ABCD matrix for `mod1` and `mod2`.\n",
    "\n",
    "Modify the following code to employ your modulator of choice!"
   ]
  },
  {
   "cell_type": "code",
   "execution_count": null,
   "metadata": {},
   "outputs": [],
   "source": [
    "mod_order = 2\n",
    "if not mod_order in (1, 2):\n",
    "    raise ValueError('Please choose an order equal to either 1 or 2')\n",
    "ABCD_mod1 = np.array([[1., 1., -1.], [1., 0., 0.]])\n",
    "ABCD_mod2 = np.array([[1., 0., 1., -1.], [1., 1., 1., -2.], [0., 1., 0., 0.]])\n",
    "ABCD = ABCD_mod1 if mod_order == 1 else ABCD_mod2\n",
    "print(\"Delta sigma modulator ABCD matrix:\")\n",
    "print(ABCD)"
   ]
  },
  {
   "cell_type": "markdown",
   "metadata": {},
   "source": [
    "### $\\mathrm{sinc}^n$ decimation filter: parameters"
   ]
  },
  {
   "cell_type": "code",
   "execution_count": null,
   "metadata": {},
   "outputs": [],
   "source": [
    "SincOrder = 2 # SincOrder\n",
    "DecFact = 32 # 32 DecFact"
   ]
  },
  {
   "cell_type": "markdown",
   "metadata": {},
   "source": [
    "### Misc. options"
   ]
  },
  {
   "cell_type": "code",
   "execution_count": null,
   "metadata": {},
   "outputs": [],
   "source": [
    "T = 2 # Input signal duration in seconds.\n",
    "FsOut = 8192 # set to ensure compatibility.\n",
    "Fs = FsOut*DecFact #Fs"
   ]
  },
  {
   "cell_type": "markdown",
   "metadata": {},
   "source": [
    "## Simulation\n",
    "### Setup the input signal"
   ]
  },
  {
   "cell_type": "code",
   "execution_count": null,
   "metadata": {},
   "outputs": [],
   "source": [
    "N = int(np.round(T*Fs))\n",
    "if SourceType == 0:\n",
    "    SineAmp = max(min(SineAmp, 1), 0) # 0 <= SineAmp <= 1\n",
    "    if SineFreq >= FsOut/2:\n",
    "        raise ValueError('Anything above FsOut/2 (%g) will be inaudible.' % FsOut/2)\n",
    "    print(\"Generating a sine wave:\")\n",
    "    print(\" * at freq. %g Hz, \" % SineFreq)\n",
    "    print(\" * with norm. amplitude %g,\" % SineAmp)\n",
    "    print(\" * sampled at %g Hz,\" % Fs)\n",
    "    print(\" * total length %g s (%d #samples).\" % (T, N))\n",
    "    u = SineAmp*np.sin(2*np.pi*SineFreq/Fs*np.arange(N))*ds_hann(N)\n",
    "    u0 = u[::DecFact]\n",
    "elif SourceType == 1:\n",
    "    u = np.linspace(-0.7, 0.7, N)\n",
    "    u0 = u[::DecFact]\n",
    "    print(\"Generating a ramp:\")\n",
    "    print(\" * from -.7 to +.7, \")\n",
    "    print(\" * sampled at %g Hz,\" % Fs)\n",
    "    print(\" * total length %g s (%d #samples).\" % (T, N))\n",
    "elif SourceType == 2:\n",
    "    from scipy.interpolate import interp1d as interp\n",
    "    filename = 'sax.wav'\n",
    "    T = 9\n",
    "    try:\n",
    "        from scipy.io import wavfile  \n",
    "    except ImportError:\n",
    "        print(\"Error: Reading audio files requires scipy > v 0.12.0\")\n",
    "    try:\n",
    "        fpin = open(filename + '.b64', 'r')\n",
    "        b64data = fpin.read()\n",
    "        fpin.close()\n",
    "        fpout = open(filename, 'wb')\n",
    "        fpout.write(base64.b64decode(b64data))\n",
    "        fpout.close()\n",
    "        sr, filedata = wavfile.read(filename)\n",
    "    except IOError:\n",
    "        print(\"Wav file %s not found.\" % filename)\n",
    "    if len(filedata.shape) == 2:\n",
    "        filedata = np.average(filedata, axis=1)\n",
    "    T = min(T, filedata.shape[0]/sr)\n",
    "    N = int(np.round(T*Fs))\n",
    "    filedata = filedata[:int(np.round(T*sr)+1)]\n",
    "    if max(abs(filedata)) > 1:\n",
    "        filedata = filedata/max(abs(filedata))\n",
    "    filets = np.arange(filedata.shape[0])/sr\n",
    "    ts = (np.arange(N)/Fs)\n",
    "    u0 = interp(filets, filedata)(ts[::DecFact])\n",
    "    u = interp(filets, filedata)(ts)\n",
    "    print(\"Decoded the file %s.b64 and loaded its data.\" % filename)\n",
    "    print(\"Input data available:\")\n",
    "    print(\" * sampled at %g Hz,\" % Fs)\n",
    "    print(\" * total length %g s (%d #samples).\" % (T, N))\n",
    "    print(\" * normalized (only if amp > 1)\")"
   ]
  },
  {
   "cell_type": "markdown",
   "metadata": {},
   "source": [
    "## Inspect the input signal\n",
    "### Plot: time domain"
   ]
  },
  {
   "cell_type": "code",
   "execution_count": null,
   "metadata": {},
   "outputs": [],
   "source": [
    "plot(np.arange(N)[::DecFact]/Fs, u0)\n",
    "figureMagic(size=(20,4))\n",
    "ylabel('$u(t)$');"
   ]
  },
  {
   "cell_type": "markdown",
   "metadata": {},
   "source": [
    "### Plot: frequency domain"
   ]
  },
  {
   "cell_type": "code",
   "execution_count": null,
   "metadata": {},
   "outputs": [],
   "source": [
    "if SourceType == 0 or SourceType == 2:\n",
    "    N = max(u0.shape)\n",
    "    if SourceType == 0:\n",
    "        U = np.fft.fft(u0)/(N/4)\n",
    "    else:\n",
    "        U = np.fft.fft(u0 * ds_hann(N))/(N/4)\n",
    "    f = np.linspace(0, FsOut, N + 1)\n",
    "    f = f[:int(N/2) + 1]\n",
    "    semilogx(f, dbv(U[:int(N/2) + 1]))\n",
    "xlabel('f [Hz]')\n",
    "ylabel('U(f) [dB]')\n",
    "figureMagic(xRange=[1, max(f)], size=plotsize, name='Spectrum')"
   ]
  },
  {
   "cell_type": "markdown",
   "metadata": {},
   "source": [
    "### Play the input signal\n",
    "\n",
    "Click on the Play button to listen to the input signal.\n",
    "\n",
    "*Requires a HTML5-capable browser such as recent version of Chrome, Firefox or IE.*"
   ]
  },
  {
   "cell_type": "code",
   "execution_count": null,
   "metadata": {},
   "outputs": [],
   "source": [
    "# Show a Html 5 audio player\n",
    "wavPlayer(data=u0, rate=FsOut)"
   ]
  },
  {
   "cell_type": "markdown",
   "metadata": {},
   "source": [
    "## Simulate!\n",
    "The simulation is run calling `simulateDSM()`."
   ]
  },
  {
   "cell_type": "code",
   "execution_count": null,
   "metadata": {},
   "outputs": [],
   "source": [
    "v, junk1, junk2, y = simulateDSM(u, ABCD)\n",
    "del junk1, junk2\n",
    "q = v - y # quantization error"
   ]
  },
  {
   "cell_type": "markdown",
   "metadata": {},
   "source": [
    "## Inspect the output"
   ]
  },
  {
   "cell_type": "markdown",
   "metadata": {},
   "source": [
    "### Plot: time domain"
   ]
  },
  {
   "cell_type": "code",
   "execution_count": null,
   "metadata": {},
   "outputs": [],
   "source": [
    "N = max(v.shape)\n",
    "nPlot = 400\n",
    "if N > nPlot:\n",
    "    n = np.arange(int(np.floor(N/2 - nPlot/2)), int(np.floor(N/2 + nPlot/2)))\n",
    "else:\n",
    "    n = np.arange(N)\n",
    "n = n.astype(np.int32)\n",
    "t = np.arange(max(n.shape))\n",
    "step(t, u[n], 'r')\n",
    "bar(t, v[n], color='b', linewidth=0)\n",
    "ylabel('$u(t), v(t)$')\n",
    "xlabel('Sample #')\n",
    "axis([0, max(n)-min(n), -1.1, 1.1])\n",
    "figureMagic(size=(20, 4), name='Modulator Input & Output')"
   ]
  },
  {
   "cell_type": "markdown",
   "metadata": {},
   "source": [
    "### Plot: frequency domain"
   ]
  },
  {
   "cell_type": "code",
   "execution_count": null,
   "metadata": {},
   "outputs": [],
   "source": [
    "N = max(v.shape)\n",
    "Nfft = min(N, 16*8192)\n",
    "n = np.arange((N - Nfft)/2, (N + Nfft)/2).astype(np.int32)\n",
    "V = np.fft.fft(v[n] * ds_hann(Nfft)) / (Nfft / 4)\n",
    "if SourceType == 1:\n",
    "    inBin = np.round(SineFreq/Fs*Nfft)\n",
    "else:\n",
    "    inBin = np.ceil(Nfft/1000)\n",
    "ylabel('V(f) [dB]')\n",
    "xlabel('Frequency [Hz]')\n",
    "semilogx(np.arange(max(V.shape))/max(V.shape)*Fs, dbv(V))\n",
    "f, Vp = logsmooth(V, inBin)\n",
    "semilogx(f*Fs, Vp, 'm', linewidth=2.5)\n",
    "xlim([f[0]*Fs, Fs/2])\n",
    "msg = 'NBW = %.1f Hz ' % (Fs*1.5/Nfft)\n",
    "text(Fs/2, -90, msg, horizontalalignment='right', verticalalignment='center')\n",
    "figureMagic(size=plotsize, name='Spectrum')"
   ]
  },
  {
   "cell_type": "markdown",
   "metadata": {},
   "source": [
    "### Decimate; Comparison of output signal and input signal"
   ]
  },
  {
   "cell_type": "code",
   "execution_count": null,
   "metadata": {},
   "outputs": [],
   "source": [
    "w = sinc_decimate(v, SincOrder, DecFact)\n",
    "filtered_q = sinc_decimate(q, SincOrder, DecFact)\n",
    "N = max(w.shape)\n",
    "t = np.arange(N)/FsOut\n",
    "subplot(211)\n",
    "plot(t, w)\n",
    "ylabel('$w$')\n",
    "figureMagic(size=(20, 4))\n",
    "subplot(212)\n",
    "plot(t, u0 - w, 'g')\n",
    "ylabel('$u-w$')\n",
    "xlabel('t [s]')\n",
    "figureMagic(size=(20, 4))\n",
    "suptitle('Output and conversion error');"
   ]
  },
  {
   "cell_type": "markdown",
   "metadata": {},
   "source": [
    "### Play the output signal\n",
    "\n",
    "Click on the Play button to listen to the output signal `w`."
   ]
  },
  {
   "cell_type": "code",
   "execution_count": null,
   "metadata": {},
   "outputs": [],
   "source": [
    "wavPlayer(data=w, rate=FsOut)"
   ]
  },
  {
   "cell_type": "markdown",
   "metadata": {},
   "source": [
    "### Play the quantization error (filtered)\n",
    "\n",
    "Click on the Play button to listen to the quantization error `filtered_q`."
   ]
  },
  {
   "cell_type": "code",
   "execution_count": null,
   "metadata": {},
   "outputs": [],
   "source": [
    "wavPlayer(data=filtered_q, rate=FsOut, scale=True)"
   ]
  },
  {
   "cell_type": "markdown",
   "metadata": {},
   "source": [
    "### Play the difference in the signal before and after A/D conversion"
   ]
  },
  {
   "cell_type": "code",
   "execution_count": null,
   "metadata": {},
   "outputs": [],
   "source": [
    "wavPlayer(data=u0-w, rate=FsOut, scale=True)"
   ]
  },
  {
   "cell_type": "markdown",
   "metadata": {},
   "source": [
    "### Final comparison of the spectra of the three signals"
   ]
  },
  {
   "cell_type": "code",
   "execution_count": null,
   "metadata": {},
   "outputs": [],
   "source": [
    "N = max(filtered_q.shape)\n",
    "Nfft = min(N, 16*8192)\n",
    "n = np.arange((N - Nfft)/2, (N + Nfft)/2).astype(np.int32)\n",
    "E = np.fft.fft(filtered_q[n] * ds_hann(Nfft)) / (Nfft / 4)\n",
    "W = np.fft.fft(w[n] * ds_hann(Nfft)) / (Nfft / 4)\n",
    "U0 = np.fft.fft(u0[n] * ds_hann(Nfft)) / (Nfft / 4)\n",
    "if SourceType == 0:\n",
    "    inBin = np.round(SineFreq*Nfft)/FsOut\n",
    "else:\n",
    "    inBin = np.ceil(Nfft/1000)\n",
    "ylabel('dB')\n",
    "semilogx(np.arange(Nfft)/Nfft*FsOut, dbv(U0), label='Input signal')\n",
    "semilogx(np.arange(Nfft)/Nfft*FsOut, dbv(W), label='Output signal')\n",
    "semilogx(np.arange(Nfft)/Nfft*FsOut, dbv(E), label='Filtered quant. error')\n",
    "f, U0p = logsmooth(U0, inBin)\n",
    "semilogx(f*FsOut, U0p, '#1E90FF', linewidth=2.5)\n",
    "f, Wp = logsmooth(W, inBin)\n",
    "semilogx(f*FsOut, Wp, '#556B2F', linewidth=2.5)\n",
    "f, Ep = logsmooth(E, inBin)\n",
    "semilogx(f*FsOut, Ep, '#8B0000', linewidth=2.5)\n",
    "xlim([10, FsOut/2])\n",
    "msg = 'NBW = %.1f Hz ' % (Fs*1.5/Nfft)\n",
    "text(FsOut/2, -6, msg, horizontalalignment='right', verticalalignment='top')\n",
    "figureMagic(size=plotsize, name='Spectrum')\n",
    "legend(loc=3);"
   ]
  },
  {
   "cell_type": "markdown",
   "metadata": {},
   "source": [
    "## Conclusions\n",
    "\n",
    "We briefly demonstrated the use of two modulators to perform A/D conversion of audio signals. \n",
    "\n",
    "Feel free to go through this notebook, change the parameters and resimulate!"
   ]
  },
  {
   "cell_type": "markdown",
   "metadata": {},
   "source": [
    "### System version information"
   ]
  },
  {
   "cell_type": "code",
   "execution_count": null,
   "metadata": {},
   "outputs": [],
   "source": [
    "%version_information numpy, scipy, matplotlib, deltasigma"
   ]
  },
  {
   "cell_type": "code",
   "execution_count": null,
   "metadata": {},
   "outputs": [],
   "source": []
  }
 ],
 "metadata": {
  "kernelspec": {
   "display_name": "Python 3",
   "language": "python",
   "name": "python3"
  },
  "language_info": {
   "codemirror_mode": {
    "name": "ipython",
    "version": 3
   },
   "file_extension": ".py",
   "mimetype": "text/x-python",
   "name": "python",
   "nbconvert_exporter": "python",
   "pygments_lexer": "ipython3",
   "version": "3.7.4"
  }
 },
 "nbformat": 4,
 "nbformat_minor": 1
}
