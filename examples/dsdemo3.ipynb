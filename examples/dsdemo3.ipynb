{
 "cells": [
  {
   "cell_type": "code",
   "execution_count": null,
   "metadata": {},
   "outputs": [],
   "source": [
    "%pylab inline\n",
    "%load_ext version_information"
   ]
  },
  {
   "cell_type": "code",
   "execution_count": null,
   "metadata": {},
   "outputs": [],
   "source": [
    "from deltasigma import *\n",
    "from IPython.core.display import Image\n",
    "import pandas as pd"
   ]
  },
  {
   "cell_type": "markdown",
   "metadata": {},
   "source": [
    "# Modulator realization and dynamic range scaling - # demo3"
   ]
  },
  {
   "cell_type": "markdown",
   "metadata": {},
   "source": [
    "In this ipython notebook, the following is demonstrated:\n",
    "\n",
    " * A 5th order delta sigma modulator is synthesized, with optimized zeros and an OSR equal to 42.\n",
    "\n",
    " * We then convert the synthesized NTF into `a`, `g`, `b`, `c` coefficients for the `CRFB` modulator structure.\n",
    " \n",
    " * The maxima for each state are evaluated.\n",
    " \n",
    " * The `ABCD` matrix is scaled so that the state maxima are less than the specified limit.\n",
    "\n",
    " * The state maxima are re-evaluated and limit compliance is checked.\n",
    "\n",
    "**NOTE:** This is an ipython port of `dsdemo3.m`, from the **[MATLAB Delta Sigma Toolbox](http://www.mathworks.com/matlabcentral/fileexchange/19-delta-sigma-toolbox)**, written by Richard Schreier."
   ]
  },
  {
   "cell_type": "markdown",
   "metadata": {},
   "source": [
    "## Delta sigma modulator synthesis"
   ]
  },
  {
   "cell_type": "code",
   "execution_count": null,
   "metadata": {},
   "outputs": [],
   "source": [
    "order = 5\n",
    "R = 42\n",
    "opt = 1\n",
    "H = synthesizeNTF(order, R, opt)"
   ]
  },
  {
   "cell_type": "markdown",
   "metadata": {},
   "source": [
    "Let's inspect the NTF, printing out the transfer function and plotting poles and zeros with respect to the unit circle."
   ]
  },
  {
   "cell_type": "code",
   "execution_count": null,
   "metadata": {},
   "outputs": [],
   "source": [
    "print(pretty_lti(H))"
   ]
  },
  {
   "cell_type": "code",
   "execution_count": null,
   "metadata": {},
   "outputs": [],
   "source": [
    "figure(figsize=(10, 5))\n",
    "plotPZ(H, showlist=True)\n",
    "title('NTF');"
   ]
  },
  {
   "cell_type": "markdown",
   "metadata": {},
   "source": [
    "## Evaluation of the coefficients for a CRFB topology\n",
    "The CRFB topology is depicted in the following diagram."
   ]
  },
  {
   "cell_type": "code",
   "execution_count": null,
   "metadata": {},
   "outputs": [],
   "source": [
    "Image(url='http://python-deltasigma.readthedocs.org/en/latest/_images/CRFB.png', retina=True)"
   ]
  },
  {
   "cell_type": "markdown",
   "metadata": {},
   "source": [
    "Since the modulator order is 5, we're interested in the topology for odd order modulators."
   ]
  },
  {
   "cell_type": "markdown",
   "metadata": {},
   "source": [
    "## Unscaled modulator"
   ]
  },
  {
   "cell_type": "markdown",
   "metadata": {},
   "source": [
    "### Calculate the coefficients"
   ]
  },
  {
   "cell_type": "code",
   "execution_count": null,
   "metadata": {},
   "outputs": [],
   "source": [
    "a, g, b, c = realizeNTF(H)"
   ]
  },
  {
   "cell_type": "markdown",
   "metadata": {},
   "source": [
    "### Feed-in selection\n",
    "We'll use a single feed-in for the input, to have a maximally flat STF.\n",
    "\n",
    "This means setting $\\ b_n = 0, \\ \\forall n > 1$."
   ]
  },
  {
   "cell_type": "code",
   "execution_count": null,
   "metadata": {},
   "outputs": [],
   "source": [
    "b = np.concatenate((b[0].reshape((1, )), np.zeros((b.shape[0] - 1, ))), axis=0)"
   ]
  },
  {
   "cell_type": "code",
   "execution_count": null,
   "metadata": {},
   "outputs": [],
   "source": [
    "t_sz = max([len(a), len(g), len(b), len(c)])\n",
    "t_nan = [np.nan for x in range(t_sz)]\n",
    "t = {'Coefficients' : ['#1', '#2', '#3', '#4', '#5', '#6'],\n",
    "     'DAC feedback: a(n)' : (a.tolist()+t_nan)[:t_sz],\n",
    "     'Resonator feedback: g(n)' : (g.tolist()+t_nan)[:t_sz],\n",
    "     'Feed-in: b(n)' : (b.tolist()+t_nan)[:t_sz],\n",
    "     'Interstage: c(n)' : (c.tolist()+t_nan)[:t_sz]}\n",
    "pd.DataFrame(t)"
   ]
  },
  {
   "cell_type": "markdown",
   "metadata": {},
   "source": [
    "### Calculate the state maxima"
   ]
  },
  {
   "cell_type": "code",
   "execution_count": null,
   "metadata": {},
   "outputs": [],
   "source": [
    "ABCD = stuffABCD(a, g, b, c);\n",
    "u = np.linspace(0, 0.6, 30);\n",
    "N = 1e4; \n",
    "T = np.ones((1, int(N)))\n",
    "maxima = np.zeros((order, len(u)))\n",
    "for i in range(len(u)):\n",
    "    ui = u[i]\n",
    "    v, xn, xmax, _ = simulateDSM(ui*T, ABCD);\n",
    "    maxima[:, i] = np.squeeze(xmax)\n",
    "    if any(xmax > 1e2):\n",
    "        umax = ui;\n",
    "        u = u[:i];\n",
    "        maxima = maxima[:, :i]\n",
    "        break;\n",
    "# save the maxima\n",
    "prescale_maxima = np.copy(maxima)\n",
    "print('The state maxima have been evaluated through simulation.')"
   ]
  },
  {
   "cell_type": "markdown",
   "metadata": {},
   "source": [
    "### Plot of the state maxima"
   ]
  },
  {
   "cell_type": "code",
   "execution_count": null,
   "metadata": {},
   "outputs": [],
   "source": [
    "for i in range(order):\n",
    "    semilogy(u, maxima[i, :], 'o-', label=('State %d' % (i+1)))\n",
    "grid(True)\n",
    "title('State Maxima'); ylabel('Peak value'); xlabel('DC input')\n",
    "xlim([0, 0.6]); ylim([1e-6, 10]);\n",
    "legend(loc=4);"
   ]
  },
  {
   "cell_type": "markdown",
   "metadata": {},
   "source": [
    "## Scaled modulator\n",
    "### Calculate the scaled coefficients"
   ]
  },
  {
   "cell_type": "code",
   "execution_count": null,
   "metadata": {},
   "outputs": [],
   "source": [
    "ABCDs, umax, _ = scaleABCD(ABCD, N_sim=1e5)\n",
    "as_, gs, bs, cs = mapABCD(ABCDs)\n",
    "print('\\nScaled modulator, umax = %.2f\\n' % umax)"
   ]
  },
  {
   "cell_type": "code",
   "execution_count": null,
   "metadata": {},
   "outputs": [],
   "source": [
    "t_sz = max([len(as_), len(gs), len(bs), len(cs)])\n",
    "t_nan = [np.nan for x in range(t_sz)]\n",
    "t = {'Coefficients' : ['#1', '#2', '#3', '#4', '#5', '#6'],\n",
    "     'DAC feedback: a(n)' : (as_.tolist()+t_nan)[:t_sz],\n",
    "     'Resonator feedback: g(n)' : (gs.tolist()+t_nan)[:t_sz],\n",
    "     'Feed-in: b(n)' : (bs.tolist()+t_nan)[:t_sz],\n",
    "     'Interstage: c(n)' : (cs.tolist()+t_nan)[:t_sz]}\n",
    "pd.DataFrame(t)"
   ]
  },
  {
   "cell_type": "markdown",
   "metadata": {},
   "source": [
    "### Calculate the state maxima"
   ]
  },
  {
   "cell_type": "code",
   "execution_count": null,
   "metadata": {},
   "outputs": [],
   "source": [
    "u = np.linspace(0, umax, 30)\n",
    "N = 1e4\n",
    "T = np.ones((int(N),))\n",
    "maxima = np.zeros((order, len(u)))\n",
    "for i in range(len(u)):\n",
    "    ui = u[i]\n",
    "    v, xn, xmax, _ = simulateDSM(ui*T, ABCDs)\n",
    "    maxima[:, i] = xmax.squeeze()\n",
    "    if any(xmax > 1e2):\n",
    "        umax = ui;\n",
    "        u = u[:i]\n",
    "        maxima = maxima[:, :i]\n",
    "        break\n",
    "print('The state maxima have been re-evaluated through simulation.')\n",
    "print(\"The maximum input was found to be %.6f\" % umax)"
   ]
  },
  {
   "cell_type": "markdown",
   "metadata": {},
   "source": [
    "### Plot of the state maxima after scaling"
   ]
  },
  {
   "cell_type": "code",
   "execution_count": null,
   "metadata": {},
   "outputs": [],
   "source": [
    "for i in range(order):\n",
    "    semilogy(u, maxima[i, :], 'o-', label=('State %d' % (i+1)))\n",
    "grid(True)\n",
    "title('State Maxima'); ylabel('Peak value'); xlabel('DC input')\n",
    "xlim([0, 0.6]); ylim([6e-2, 1.2]);\n",
    "legend(loc=4);"
   ]
  },
  {
   "cell_type": "markdown",
   "metadata": {},
   "source": [
    "### System version information"
   ]
  },
  {
   "cell_type": "code",
   "execution_count": null,
   "metadata": {},
   "outputs": [],
   "source": [
    "%version_information numpy, scipy, matplotlib, deltasigma"
   ]
  },
  {
   "cell_type": "code",
   "execution_count": null,
   "metadata": {},
   "outputs": [],
   "source": []
  }
 ],
 "metadata": {
  "kernelspec": {
   "display_name": "Python 3",
   "language": "python",
   "name": "python3"
  },
  "language_info": {
   "codemirror_mode": {
    "name": "ipython",
    "version": 3
   },
   "file_extension": ".py",
   "mimetype": "text/x-python",
   "name": "python",
   "nbconvert_exporter": "python",
   "pygments_lexer": "ipython3",
   "version": "3.7.4"
  }
 },
 "nbformat": 4,
 "nbformat_minor": 1
}
