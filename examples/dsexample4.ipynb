{
 "cells": [
  {
   "cell_type": "markdown",
   "metadata": {},
   "source": [
    "# 4th-order quadrature example\n",
    "\n",
    "Ported from the MATLAB file `dsexample4.m`, written by R. Schreier."
   ]
  },
  {
   "cell_type": "markdown",
   "metadata": {},
   "source": [
    "Preliminary code to set-up IPython:"
   ]
  },
  {
   "cell_type": "code",
   "execution_count": null,
   "metadata": {},
   "outputs": [],
   "source": [
    "%pylab inline\n",
    "%load_ext version_information"
   ]
  },
  {
   "cell_type": "markdown",
   "metadata": {},
   "source": [
    "Import the `deltasigma` module."
   ]
  },
  {
   "cell_type": "code",
   "execution_count": null,
   "metadata": {},
   "outputs": [],
   "source": [
    "import deltasigma as ds"
   ]
  },
  {
   "cell_type": "markdown",
   "metadata": {},
   "source": [
    "## ADC specifications\n",
    "\n",
    "Specify the parameters of the the ADC design:"
   ]
  },
  {
   "cell_type": "code",
   "execution_count": null,
   "metadata": {},
   "outputs": [],
   "source": [
    "order = 4\n",
    "osr = 32\n",
    "M = 8\n",
    "NG = -50\n",
    "ING = -10\n",
    "f0 = 1 / 16\n",
    "quadrature = True\n",
    "form = 'PFB'\n",
    "nlev = M + 1\n",
    "z0 = np.exp(1j*2*np.pi*f0)\n",
    "bw = 1./osr\n",
    "delta = 2\n",
    "FullScale = M"
   ]
  },
  {
   "cell_type": "markdown",
   "metadata": {},
   "source": [
    "ADC specifications up to now:"
   ]
  },
  {
   "cell_type": "code",
   "execution_count": null,
   "metadata": {},
   "outputs": [],
   "source": [
    "adc = {}\n",
    "adc['order'] = order\n",
    "adc['osr'] = osr\n",
    "adc['M'] = M\n",
    "adc['f0'] = f0\n",
    "adc['quadrature'] = quadrature\n",
    "adc['form'] = form"
   ]
  },
  {
   "cell_type": "markdown",
   "metadata": {},
   "source": [
    "## Choosing the NTF and realization... "
   ]
  },
  {
   "cell_type": "code",
   "execution_count": null,
   "metadata": {},
   "outputs": [],
   "source": [
    "ntf0 = ds.synthesizeQNTF(order, osr, f0, NG, ING)\n",
    "print('ntf0 = \\n')\n",
    "print(ds.pretty_lti(ntf0))"
   ]
  },
  {
   "cell_type": "code",
   "execution_count": null,
   "metadata": {},
   "outputs": [],
   "source": [
    "ABCD = ds.realizeQNTF(ntf0, form, quadrature)\n",
    "adc['ABCD'] = ABCD.copy()\n",
    "print('ABCD matrix: \\n')\n",
    "print(ABCD)"
   ]
  },
  {
   "cell_type": "markdown",
   "metadata": {},
   "source": [
    "## Calculate the STF\n",
    "\n",
    "This also recalculates the NTF, which is the same as before."
   ]
  },
  {
   "cell_type": "code",
   "execution_count": null,
   "metadata": {},
   "outputs": [],
   "source": [
    "ntf, stf = ds.calculateTF(ABCD)\n",
    "print('ntf = \\n')\n",
    "print(ds.pretty_lti(ntf))\n",
    "print('\\n\\nstf = \\n')\n",
    "print(ds.pretty_lti(stf))\n",
    "# save ADC parameters\n",
    "adc['ntf'] = ntf\n",
    "adc['stf'] = stf"
   ]
  },
  {
   "cell_type": "code",
   "execution_count": null,
   "metadata": {},
   "outputs": [],
   "source": [
    "figure(figsize=(12,8))\n",
    "ds.DocumentNTF(ABCD, osr=32, f0=1./16, quadrature=True);"
   ]
  },
  {
   "cell_type": "markdown",
   "metadata": {},
   "source": [
    "## Time-domain simulations"
   ]
  },
  {
   "cell_type": "code",
   "execution_count": null,
   "metadata": {},
   "outputs": [],
   "source": [
    "#setup the figure\n",
    "figure(figsize=(13, 5))\n",
    "subplot2grid((1, 3), (0, 0), colspan=2)\n",
    "# spectrum\n",
    "ds.PlotExampleSpectrum(ntf, M, osr, f0, quadrature)\n",
    "title('Example Spectrum')\n",
    "# SNR simulation\n",
    "subplot2grid((1, 3), (0, 2))\n",
    "snr, amp = ds.simulateSNR(ABCD, osr, None, f0, nlev)\n",
    "plot(amp, snr, 'ob')\n",
    "ds.figureMagic((-100, 0), 10, 2, (0, 100), 10, 2)\n",
    "xlabel('Input Level (dBFS)')\n",
    "ylabel('SQNR (dB)')\n",
    "peak_snr, peak_amp = ds.peakSNR(snr, amp)\n",
    "adc['peak_snr'] = peak_snr\n",
    "msg = 'peak SQNR = %4.1fdB  \\n@ amp=%4.1fdB  ' % (peak_snr, peak_amp)\n",
    "text(peak_amp - 10, peak_snr, msg, ha='right', va='center')\n",
    "msg = 'OSR=%d ' % osr\n",
    "text(0, 5, msg, ha='right')\n",
    "title('SQNR Plot')\n",
    "tight_layout()"
   ]
  },
  {
   "cell_type": "markdown",
   "metadata": {},
   "source": [
    "## ADC parameters"
   ]
  },
  {
   "cell_type": "code",
   "execution_count": null,
   "metadata": {},
   "outputs": [],
   "source": [
    "for k in adc:\n",
    "    print('%s:' % k)\n",
    "    print('\\t'+str(adc[k]))"
   ]
  },
  {
   "cell_type": "markdown",
   "metadata": {},
   "source": [
    "## Effect of example I/Q mismatch"
   ]
  },
  {
   "cell_type": "code",
   "execution_count": null,
   "metadata": {},
   "outputs": [],
   "source": [
    "from scipy.signal import freqz\n",
    "nd = ds._utils._get_num_den\n",
    "figure(figsize=(12, 5))\n",
    "ABCDr = ds.mapQtoR(ABCD)\n",
    "ABCDr[1, -1] = 1.01 * ABCDr[1, -1]\n",
    "H, G, HI, GI = ds.calculateQTF(ABCDr)\n",
    "f = ds.ds_freq(osr, f0, quadrature)\n",
    "w = 2 * np.pi * f\n",
    "NTF = freqz(*nd(H), worN=w)[1]\n",
    "INTF = freqz(*nd(HI), worN=w)[1]\n",
    "STF = freqz(*nd(G), worN=w)[1]\n",
    "ISTF = freqz(*nd(GI), worN=w)[1]\n",
    "plot(f, ds.dbv(NTF), 'b', lw=2, label='NTF')\n",
    "plot(f, ds.dbv(INTF), 'c', lw=2, label='INTF')\n",
    "plot(f, ds.dbv(STF), 'm', lw=2, label='STF')\n",
    "plot(f, ds.dbv(ISTF), 'r', lw=2, label='ISTF')\n",
    "inband = (np.logical_and(f >= f0 - 0.5/osr, f <= f0 + 0.5/osr))\n",
    "# NG LEVEL\n",
    "ng = ds.dbp(np.mean(np.abs(NTF[inband])**2))\n",
    "plot(f0 + 0.5*np.array((-1, 1))/osr, ng*np.array((1, 1)), 'k', lw=3)\n",
    "msg = '  NG = %.0fdB ' % ng\n",
    "text(f0 + 0.5/osr, ng, msg, ha='left', va='center')\n",
    "# ING LEVEL\n",
    "ing = ds.dbp(np.mean(np.abs(INTF[inband])**2))\n",
    "plot([f0 - 0.5/osr, f0 +0.5/osr], [ing, ing], 'k', lw=3)\n",
    "msg = '  ING = %.0fdB ' % ing\n",
    "text(f0 + 0.5/osr, ing, msg, ha='left', va='center')\n",
    "# IRR LEVEL\n",
    "irr = np.min(ds.dbv(STF[inband]) - ds.dbv(ISTF[inband]))\n",
    "plot([f0 - 0.5/osr, f0 + 0.5/osr], [-irr, -irr], 'k', lw=3)\n",
    "msg = '  IRR = %.0fdB ' % irr\n",
    "text(f0 + 0.5/osr, -irr, msg, ha='left', va='center')\n",
    "ds.figureMagic((-0.5, 0.5), 2./16, 2, (-80, 15), 20, 2, None, 'Example I/Q Mismatch')\n",
    "xlabel('frequency')\n",
    "legend(loc=3);"
   ]
  },
  {
   "cell_type": "markdown",
   "metadata": {},
   "source": [
    "## Further information about NTF synthesis\n",
    "\n",
    "Please refer to `help(synthesizeNTF)` for detailed - and possibly more updated - documentation!\n",
    "\n",
    "`help(synthesizeNTF)` as of writing:\n",
    "\n",
    "**synthesizeQNTF**(order=4, OSR=64, f0=0.0, NG=-60, ING=-20, n_im=None)**\n",
    "\n",
    "Synthesize a noise transfer function for a quadrature modulator.\n",
    "\n",
    "**Parameters:**\n",
    "\n",
    "order : *int, optional*\n",
    "    The order of the modulator. Defaults to 4.\n",
    "\n",
    "OSR : *int, optional*\n",
    "    The oversampling ratio. Defaults to 64.\n",
    "\n",
    "f0 : *float, optional*\n",
    "    The center frequency, normalized such that $1 \\rightarrow f_s$.\n",
    "    Defaults to 0, ie to a low-pass modulator.\n",
    "\n",
    "NG : *float, optional*\n",
    "    The in-band noise gain, expressed in dB. Defaults to -60.\n",
    "\n",
    "ING : *float, optional*\n",
    "    The image-band noise gain, in dB. Defaults to -20.\n",
    "\n",
    "n_im : *int, optional*\n",
    "    The number of in-band image zeros, defaults to `floor(order/3)`.\n",
    "\n",
    "**Returns:**\n",
    "\n",
    "ntf : *(z, p, k) tuple*\n",
    "    `ntf` is a zpk tuple containing the zeros, poles and the gain of the\n",
    "    synthesized NTF.\n",
    "\n",
    "  **note:**\n",
    "\n",
    "    From the Matlab Delta-Sigma Toobox:\n",
    "    ALPHA VERSION:\n",
    "    This function uses an experimental ad-hoc method that is\n",
    "    neither optimal nor robust.\n",
    "\n",
    "**Example:**\n",
    "\n",
    "Fourth order quadrature modulator::\n",
    "\n",
    "    from deltasigma import *\n",
    "    order = 4\n",
    "    osr = 32\n",
    "    NG = -50\n",
    "    ING = -10\n",
    "    f0 = 1 / 16\n",
    "    ntf0 = synthesizeQNTF(order, osr, f0, NG, ING)\n",
    "    pretty_lti(ntf0)\n",
    "\n",
    "**Returns:**\n",
    "\n",
    "```\n",
    "      (z - 0.888 - 0.4598j) (z - 0.9239 + 0.3827j) (z - 0.9239 - 0.3827j) (z - 0.953 - 0.3028j)  \n",
    "      ---------------------------------------------------------------------------------------------\n",
    "       (z - 0.5739 - 0.5699j) (z - 0.5913 - 0.2449j) (z - 0.6731 + 0.2788j) (z - 0.8088 - 0.0028j) \n",
    "       \n",
    "```"
   ]
  },
  {
   "cell_type": "code",
   "execution_count": null,
   "metadata": {},
   "outputs": [],
   "source": [
    "%version_information numpy, scipy, matplotlib, deltasigma"
   ]
  },
  {
   "cell_type": "code",
   "execution_count": null,
   "metadata": {},
   "outputs": [],
   "source": []
  }
 ],
 "metadata": {
  "kernelspec": {
   "display_name": "Python 3",
   "language": "python",
   "name": "python3"
  },
  "language_info": {
   "codemirror_mode": {
    "name": "ipython",
    "version": 3
   },
   "file_extension": ".py",
   "mimetype": "text/x-python",
   "name": "python",
   "nbconvert_exporter": "python",
   "pygments_lexer": "ipython3",
   "version": "3.7.4"
  }
 },
 "nbformat": 4,
 "nbformat_minor": 1
}
