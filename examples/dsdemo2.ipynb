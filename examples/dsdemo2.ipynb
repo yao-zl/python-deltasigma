{
 "cells": [
  {
   "cell_type": "code",
   "execution_count": null,
   "metadata": {},
   "outputs": [],
   "source": [
    "%pylab inline\n",
    "%load_ext version_information"
   ]
  },
  {
   "cell_type": "code",
   "execution_count": null,
   "metadata": {},
   "outputs": [],
   "source": [
    "from deltasigma import *"
   ]
  },
  {
   "cell_type": "markdown",
   "metadata": {},
   "source": [
    "NTF synthesis - demo #2\n",
    "=======================\n",
    "\n",
    "Demonstration of the **`simulateDSM`** function, as in the **MATLAB Delta Sigma Toolbox**, employing its Python port **`deltasigma`**.\n",
    "\n",
    " * In the first section, the **Noise Transfer Function** (NTF) is synthesized for a **5th-order**, **low-pass** modulator and \n",
    "   for a **8th-order band-pass** modulator.  \n",
    "     * In each case, the modulator is **simulated** - with `simulateDSM` - and its output plotted in terms of **time response**\n",
    "       and **spectrum**.\n",
    "     * The **Signal to Noise Ratio** (SNR) is evaluated from the spectrum through `calculateSNR`.\n",
    "     * The **SNR** for different amplitudes is **predicted** through `predictSNR`, **simulated** with `simulateSNR` and \n",
    "       the **peak values are extracted** with `peakSNR`.\n",
    "\n",
    " * In the second section we move on to the synthesis and simulation of a **7th-order low-pass multi-bit modulator**."
   ]
  },
  {
   "cell_type": "markdown",
   "metadata": {},
   "source": [
    "5th-order low-pass modulator\n",
    "----------------------------\n",
    "\n",
    "General parameters and synthesis:"
   ]
  },
  {
   "cell_type": "code",
   "execution_count": null,
   "metadata": {},
   "outputs": [],
   "source": [
    "OSR = 32\n",
    "order = 5\n",
    "H = synthesizeNTF(order, OSR, 1)"
   ]
  },
  {
   "cell_type": "markdown",
   "metadata": {},
   "source": [
    "### Time-domain simulation with `simulateDSM`\n",
    "\n",
    "A test sine wave is employed for the time simulation, having amplitude $A = .5$ (equiv. -6 dBFS) and a frequency equal to $f_{test} = 2/3 f_B$."
   ]
  },
  {
   "cell_type": "code",
   "execution_count": null,
   "metadata": {},
   "outputs": [],
   "source": [
    "figure(figsize=(20, 4))\n",
    "N = 8192\n",
    "fB = int(np.ceil(N/(2.*OSR)))\n",
    "ftest = np.floor(2./3.*fB)\n",
    "u = 0.5*np.sin(2*np.pi*ftest/N*np.arange(N))\n",
    "v, xn, xmax, y = simulateDSM(u, H)\n",
    "t = np.arange(301)\n",
    "step(t, u[t],'r')\n",
    "step(t, v[t], 'g')\n",
    "axis([0, 300, -1.2, 1.2])\n",
    "xlabel('Sample Number')\n",
    "ylabel('u, v')\n",
    "title('Modulator Input & Output');"
   ]
  },
  {
   "cell_type": "markdown",
   "metadata": {},
   "source": [
    "### Output spectrum and extraction of the SNR with `calculateSNR`\n",
    "\n",
    "From the above time simulation, the spectrum is computed - through direct FFT of the Hann-windowed time waveform. \n",
    "\n",
    "The obtained spectrum (*blue*) is compared with the expected performances that can be computed evaluating the modulator transfer function in the frequency domain (*magenta*)."
   ]
  },
  {
   "cell_type": "code",
   "execution_count": null,
   "metadata": {},
   "outputs": [],
   "source": [
    "f = np.linspace(0, 0.5, int(N/2.) + 1)\n",
    "spec = np.fft.fft(v * ds_hann(N))/(N/4)\n",
    "plot(f, dbv(spec[:N//2 + 1]),'b', label='Simulation')\n",
    "figureMagic([0, 0.5], 0.05, None, [-120, 0], 20, None, (16, 6), 'Output Spectrum')\n",
    "xlabel('Normalized Frequency')\n",
    "ylabel('dBFS')\n",
    "snr = calculateSNR(spec[2:fB+1], ftest - 2)\n",
    "text(0.05, -10, 'SNR = %4.1fdB @ OSR = %d' % (snr, OSR), verticalalignment='center')\n",
    "NBW = 1.5/N\n",
    "Sqq = 4*evalTF(H, np.exp(2j*np.pi*f)) ** 2/3.\n",
    "plot(f, dbp(Sqq * NBW), 'm', linewidth=2, label='Expected PSD')\n",
    "text(0.49, -90, 'NBW = %4.1E x $f_s$' % NBW, horizontalalignment='right')\n",
    "legend(loc=4);"
   ]
  },
  {
   "cell_type": "markdown",
   "metadata": {},
   "source": [
    "### SNR vs input amplitude: prediction, simulation and peak extraction\n",
    "\n",
    "Being the example modulator a binary (single-bit) structure, we can predict the SNR curve using *the describing function method of Ardalan and Paulos*. This is done with the function `predictSNR`.\n",
    "\n",
    "Next, we check the agreement between the approximate - but very quick - method above and actual results obtained with extended time simulations of the modulator. This operation is performed by `simulateSNR`.\n",
    "\n",
    "Lastly, we interpolate the simulation results close to the SNR peak, with `peakSNR`, to get an approximate value for peak SNR that can be ideally expected by the syntesized modulator structure and its corresponding amplitude value."
   ]
  },
  {
   "cell_type": "code",
   "execution_count": null,
   "metadata": {},
   "outputs": [],
   "source": [
    "snr_pred, amp_pred, _, _, _ = predictSNR(H, OSR)\n",
    "snr, amp  = simulateSNR(H, OSR)"
   ]
  },
  {
   "cell_type": "code",
   "execution_count": null,
   "metadata": {},
   "outputs": [],
   "source": [
    "plot(amp_pred, snr_pred, '-', amp, snr, 'og-.')\n",
    "figureMagic([-100, 0], 10, None, [0, 100], 10, None, (16, 6),'SQNR')\n",
    "xlabel('Input Level (dBFS)')\n",
    "ylabel('SQNR (dB)')\n",
    "pk_snr, pk_amp = peakSNR(snr, amp)\n",
    "text(-25, 85, 'peak SNR = %4.1fdB\\n@ OSR = %d\\n' % (pk_snr, OSR), horizontalalignment='right');"
   ]
  },
  {
   "cell_type": "markdown",
   "metadata": {},
   "source": [
    "### Bandpass Modulator"
   ]
  },
  {
   "cell_type": "code",
   "execution_count": null,
   "metadata": {},
   "outputs": [],
   "source": [
    "f0 = 1./8\n",
    "OSR = 64\n",
    "order = 8\n",
    "H = synthesizeNTF(order, OSR, 1, 1.5, f0)"
   ]
  },
  {
   "cell_type": "markdown",
   "metadata": {},
   "source": [
    "### Time-domain simulation with `simulateDSM`\n",
    "\n",
    "A test sine wave is employed for the time simulation, having amplitude $A = .5$ (equiv. -6 dBFS) and a frequency offset from $f_0$ equal to $\\Delta f_{test} = 1/3 f_B$."
   ]
  },
  {
   "cell_type": "code",
   "execution_count": null,
   "metadata": {},
   "outputs": [],
   "source": [
    "figure(figsize=(20, 4))\n",
    "fB = int(np.ceil(N/(2. * OSR)))\n",
    "ftest = int(np.round(f0*N + 1./3 * fB))\n",
    "u = 0.5*np.sin(2*np.pi*ftest/N*np.arange(N))\n",
    "v, xn, xmax, y = simulateDSM(u, H)\n",
    "t = np.arange(301)\n",
    "step(t, u[t], 'r')\n",
    "step(t, v[t], 'g')\n",
    "axis([0, 300, -1.2, 1.2])\n",
    "xlabel('Sample Number')\n",
    "ylabel('u, v')"
   ]
  },
  {
   "cell_type": "markdown",
   "metadata": {},
   "source": [
    "### Output spectrum and extraction of the SNR with `calculateSNR`\n",
    "\n",
    "As in the case before, from the above time simulation, the spectrum is computed - through direct FFT of the Hann-windowed time waveform. \n",
    "\n",
    "The obtained spectrum (*blue*) is compared with the expected performances that can be computed evaluating the modulator transfer function in the frequency domain (*magenta*)."
   ]
  },
  {
   "cell_type": "code",
   "execution_count": null,
   "metadata": {},
   "outputs": [],
   "source": [
    "spec = np.fft.fft(v*ds_hann(N))/(N/4)\n",
    "plot(np.linspace(0, 0.5, int(N/2.) + 1), dbv(spec[:N // 2 + 1]), label='Simulation')\n",
    "figureMagic([0, 0.5], 0.05, None, [-140, 0], 20, None, (16, 6), 'Output Spectrum')\n",
    "f1 = int(np.round((f0 - 0.25/OSR) * N))\n",
    "f2 = int(np.round((f0 + 0.25/OSR) * N))\n",
    "snr = calculateSNR(spec[f1:f2+1], ftest - f1)\n",
    "text(0.15, -10, 'SNR = %4.1f dB @ OSR=%d)' % (snr, OSR), verticalalignment='center')\n",
    "grid(True)\n",
    "xlabel('Normalized Frequency')\n",
    "ylabel('dBFS/NBW')\n",
    "NBW = 1.5/N\n",
    "Sqq = 4*evalTF(H, np.exp(2j*np.pi*f))**2/3.\n",
    "plot(f, dbp(Sqq*NBW), 'm', linewidth=2, label='Expected PSD')\n",
    "text(0.475, -90, 'NBW=%4.1E x $f_s$' % NBW, horizontalalignment='right', verticalalignment='center')\n",
    "legend(loc=4);"
   ]
  },
  {
   "cell_type": "markdown",
   "metadata": {},
   "source": [
    "### SNR vs input amplitude: prediction, simulation and peak extraction\n",
    "\n",
    "*In the following, the same comments as in the preceeding sections apply, adapted for band-pass frequency charactersistics.*"
   ]
  },
  {
   "cell_type": "code",
   "execution_count": null,
   "metadata": {},
   "outputs": [],
   "source": [
    "snr_pred, amp_pred, _, _, _ = predictSNR(H, OSR, None, f0)\n",
    "snr, amp = simulateSNR(H, OSR, None, f0)"
   ]
  },
  {
   "cell_type": "code",
   "execution_count": null,
   "metadata": {},
   "outputs": [],
   "source": [
    "plot(amp_pred, snr_pred, '-b', amp, snr, 'og-.')\n",
    "figureMagic([-110, 0], 10, None, [0, 110], 10, None, (16, 6), 'SQNR')\n",
    "xlabel('Input Level (dBFS)')\n",
    "ylabel('SQNR (dB)')\n",
    "pk_snr, pk_amp = peakSNR(snr, amp)\n",
    "text(-20, 95, 'peak SNR = %4.1fdB\\n@ OSR = %d\\n' % (pk_snr, OSR), horizontalalignment='right');"
   ]
  },
  {
   "cell_type": "markdown",
   "metadata": {},
   "source": [
    "## 7th-order low-pass multi-bit modulator"
   ]
  },
  {
   "cell_type": "code",
   "execution_count": null,
   "metadata": {},
   "outputs": [],
   "source": [
    "figure(figsize=(16, 20))\n",
    "colors = ('m', 'b')\n",
    "Hinf_list = [2, 8]\n",
    "i = -1\n",
    "for col, Hinf in zip(colors, Hinf_list):\n",
    "    i += 2\n",
    "    OSR = 8\n",
    "    M = 16\n",
    "    H = synthesizeNTF(7, OSR, 1, Hinf)\n",
    "    N = 8192\n",
    "    fB = int(np.ceil(N/(2.*OSR)))\n",
    "    ftest = int(np.floor(2./7*fB))\n",
    "    u = 0.5*M*np.sin(2*np.pi*ftest/N*np.arange(N))\n",
    "    v, xn, xmax, y = simulateDSM(u, H, M + 1)\n",
    "    \n",
    "    subplot(int('42' + str(i)))\n",
    "    t = np.arange(101)\n",
    "    step(t, u[t], 'g')\n",
    "    step(t, v[t], col)\n",
    "    figureMagic([0, 100], 10, None, [-M, M], 2, None, None,'Input & Output')\n",
    "    xlabel('Sample Number')\n",
    "    ylabel('u, v')\n",
    "    \n",
    "    subplot(222)\n",
    "    snr, amp = simulateSNR(H, OSR, None, 0., M + 1)\n",
    "    plot(amp, snr,'o' + col, amp, snr, '--' + col)\n",
    "    figureMagic([-120, 0], 10, None, [0, 120], 10, None, None,'SQNR')\n",
    "    xlabel('Input Level (dBFS)')\n",
    "    ylabel('SNR (dB)')\n",
    "    pk_snr, pk_amp = peakSNR(snr, amp)\n",
    "    text(-13, pk_snr, 'peak SNR = %4.1fdB\\n@ OSR = %d\\n' % (pk_snr, OSR), horizontalalignment='right', color=col)\n",
    "    \n",
    "    subplot(212)\n",
    "    f = np.linspace(0, 0.5, int(N/2.) + 1)\n",
    "    spec = np.fft.fft(v*ds_hann(N))/(M*N/4)\n",
    "    plot(f, dbv(spec[:N//2 + 1]), col)\n",
    "    snr = calculateSNR(spec[2:fB + 1], ftest - 2)\n",
    "    text(0.1, 10*(i - 4), 'SNR = %4.1fdB @ OSR=%d' % (snr, OSR), verticalalignment='center', color=col)\n",
    "    figureMagic([0, 0.5], 0.05, None, [-160, 0], 20, None, None,'Output Spectrum')\n",
    "    xlabel('Normalized Frequency')\n",
    "    ylabel('dBFS')\n",
    "    \n",
    "    NBW = 1.5/N\n",
    "    Sqq = 4*evalTF(H, np.exp(2j*np.pi*f))**2/(3.*M**2)\n",
    "    plot(f, dbp(Sqq*NBW), 'c', linewidth=2)\n",
    "    if i == 1:\n",
    "        text(0.47, -110, 'NBW=%4.1E x $f_s$ '% NBW, horizontalalignment='right')\n",
    "title('15-step 7th-order Lowpass')\n",
    "tight_layout()"
   ]
  },
  {
   "cell_type": "markdown",
   "metadata": {},
   "source": [
    "Further information about simulation of DSM's\n",
    "---------------------------------------------\n",
    "\n",
    "Please refer to `help(simulateDSM)` for detailed - and possibly more updated - documentation!\n",
    "\n",
    "### `help(simulateDSM)` as of writing:"
   ]
  },
  {
   "cell_type": "markdown",
   "metadata": {},
   "source": [
    "simulateDSM(u, arg2, nlev=2, x0=0)\n",
    "\n",
    "    [v, xn, xmax, y] = simulateDSM(u, ABCD, nlev=2, x0=0)\n",
    "\n",
    "or\n",
    "\n",
    "    [v, xn, xmax, y] = simulateDSM(u, ntf, nlev=2, x0=0)\n",
    "    \n",
    "    Compute the output of a general delta-sigma modulator with input ``u``,\n",
    "    a structure described by ``ABCD``, an initial state ``x0`` (default zero) and\n",
    "    a quantizer with a number of levels specified by ``nlev``.\n",
    "    Multiple quantizers are implied by making ``nlev`` an array,\n",
    "    and multiple inputs are implied by the number of rows in ``u``.\n",
    "    \n",
    "    Alternatively, the modulator may be described by an ``NTF``.\n",
    "    The NTF is a zpk object. (The STF is assumed to be 1.)\n",
    "    The structure that is simulated is the block-diagional structure used by\n",
    "    zpk2ss."
   ]
  },
  {
   "cell_type": "markdown",
   "metadata": {},
   "source": [
    "### System version information"
   ]
  },
  {
   "cell_type": "code",
   "execution_count": null,
   "metadata": {},
   "outputs": [],
   "source": [
    "%version_information numpy, scipy, matplotlib, deltasigma"
   ]
  },
  {
   "cell_type": "code",
   "execution_count": null,
   "metadata": {},
   "outputs": [],
   "source": []
  }
 ],
 "metadata": {
  "kernelspec": {
   "display_name": "Python 3",
   "language": "python",
   "name": "python3"
  },
  "language_info": {
   "codemirror_mode": {
    "name": "ipython",
    "version": 3
   },
   "file_extension": ".py",
   "mimetype": "text/x-python",
   "name": "python",
   "nbconvert_exporter": "python",
   "pygments_lexer": "ipython3",
   "version": "3.7.4"
  }
 },
 "nbformat": 4,
 "nbformat_minor": 1
}
