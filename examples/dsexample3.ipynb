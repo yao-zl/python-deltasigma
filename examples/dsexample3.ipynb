{
 "cells": [
  {
   "cell_type": "code",
   "execution_count": null,
   "metadata": {},
   "outputs": [],
   "source": [
    "%pylab inline\n",
    "%load_ext version_information"
   ]
  },
  {
   "cell_type": "code",
   "execution_count": null,
   "metadata": {},
   "outputs": [],
   "source": [
    "from __future__ import division\n",
    "from deltasigma import *\n",
    "import warnings\n",
    "from scipy.signal import ss2zpk\n",
    "warnings.filterwarnings('ignore')"
   ]
  },
  {
   "cell_type": "markdown",
   "metadata": {},
   "source": [
    "Example continuous-time lowpass modulator - dsexample #3\n",
    "========================================================\n",
    "\n",
    "Demonstration of a low-pass, 3rd-order continuous-time delta sigma modulator, in a very similar fashion as as done in the **MATLAB Delta Sigma Toolbox**, albeit employing the Python port of the MATLAB package, **`deltasigma`**.\n",
    "\n",
    "\n",
    " * The **Noise Transfer Function** (NTF) is synthesized for a **3th-order**, **low-pass** modulator.\n",
    " * Time domain simulations are then performed to **extract the SNR**.\n",
    " * The continuous-time NTF is realized and mapped to an **equivalent discrete-time structure**.\n",
    " * The SNQR is again assessed.\n",
    " * The modulator coefficients are then **scaled** and the final results are presented."
   ]
  },
  {
   "cell_type": "markdown",
   "metadata": {},
   "source": [
    "## General modulator parameters"
   ]
  },
  {
   "cell_type": "code",
   "execution_count": null,
   "metadata": {},
   "outputs": [],
   "source": [
    "order = 3\n",
    "osr = 32\n",
    "nlev = 2\n",
    "f0 = 0.\n",
    "Hinf = 1.5\n",
    "tdac = [0, 1]\n",
    "form = 'FB'\n",
    "M = nlev - 1\n",
    "#generic options\n",
    "plotsize = (15, 8) #inches"
   ]
  },
  {
   "cell_type": "markdown",
   "metadata": {},
   "source": [
    "## Synthesis"
   ]
  },
  {
   "cell_type": "code",
   "execution_count": null,
   "metadata": {},
   "outputs": [],
   "source": [
    "print('\\t\\t\\t %dth-Order Continuous-Time Lowpass Example\\n' % order)\n",
    "print('Doing NTF synthesis...')\n",
    "ntf0 = synthesizeNTF(order, osr, 2, Hinf, f0) # 2: Optimized zero placement\n",
    "print('done.')\n",
    "print(\"\\nSynthesized a %d-order NTF, with roots:\\n\" % order)\n",
    "print(\" Zeros:\\t\\t\\t Poles:\")\n",
    "for z, p in zip(ntf0[0], ntf0[1]):\n",
    "    print(\"(%f, %fj)\\t(%f, %fj)\" % (np.real(z), np.imag(z), np.real(p), np.imag(p)))\n",
    "print(\"\")"
   ]
  },
  {
   "cell_type": "code",
   "execution_count": null,
   "metadata": {},
   "outputs": [],
   "source": [
    "figure(figsize=plotsize)\n",
    "plotPZ(ntf0, showlist=True)\n",
    "changeFig(10, 1.5, 7)"
   ]
  },
  {
   "cell_type": "code",
   "execution_count": null,
   "metadata": {},
   "outputs": [],
   "source": [
    "figure(figsize=plotsize)\n",
    "DocumentNTF(ntf0, osr, f0)"
   ]
  },
  {
   "cell_type": "markdown",
   "metadata": {},
   "source": [
    "## Time-domain NTF simulation"
   ]
  },
  {
   "cell_type": "code",
   "execution_count": null,
   "metadata": {},
   "outputs": [],
   "source": [
    "print('Doing time-domain simulations...')\n",
    "figure(figsize=plotsize)\n",
    "PlotExampleSpectrum(ntf0, M, osr, f0)\n",
    "title('Example Spectrum');"
   ]
  },
  {
   "cell_type": "markdown",
   "metadata": {},
   "source": [
    "## Signal to Noise Ratio"
   ]
  },
  {
   "cell_type": "markdown",
   "metadata": {},
   "source": [
    "If we have a two level quantizer, we run the prediction routine `predictSNR`, which employs the describing function method of Ardalan and Paulos.\n",
    "\n",
    "Otherwise, we skip the prediction step and we move directly to time simulation of the NTF, to evaluate the SNR."
   ]
  },
  {
   "cell_type": "code",
   "execution_count": null,
   "metadata": {},
   "outputs": [],
   "source": [
    "if nlev == 2:\n",
    "    snr_pred, amp_pred, k0, k1, se = predictSNR(ntf0, osr)\n",
    "snr, amp = simulateSNR(ntf0, osr, None, f0, nlev)"
   ]
  },
  {
   "cell_type": "code",
   "execution_count": null,
   "metadata": {},
   "outputs": [],
   "source": [
    "figure(figsize=plotsize)\n",
    "if nlev == 2:\n",
    "    plot(amp_pred, snr_pred, '-', label='Predicted')\n",
    "plot(amp, snr,'o-.g', label='simulated')\n",
    "#figureMagic(np.array([- 100,0]).reshape(1,-1),10,2,np.array([0,100]).reshape(1,-1),10,2,np.array([7,3]).reshape(1,-1),'Discrete-Time Simulation')\n",
    "xlabel('Input Level (dBFS)')\n",
    "ylabel('SQNR (dB)')\n",
    "peak_snr, peak_amp = peakSNR(snr, amp)\n",
    "msg = 'peak SQNR = %4.1fdB  \\n@ amp = %4.1fdB  ' % (peak_snr, peak_amp)\n",
    "text(peak_amp-10, peak_snr, msg, horizontalalignment='right', verticalalignment='center');\n",
    "msg = 'OSR = %d ' % osr\n",
    "text(-2, 5, msg, horizontalalignment='right');\n",
    "figureMagic([-80, 0], 10, None, [0, 80], 10, None, [12, 6], 'Time-Domain Simulations')\n",
    "legend(loc=2);"
   ]
  },
  {
   "cell_type": "markdown",
   "metadata": {},
   "source": [
    "## Realize the NTF and map it to an equivalent discrete-time structure\n",
    "\n",
    "Performed in two steps:\n",
    "\n",
    " * We call `realizeNTF_ct` to realize an NTF with a continuous-time loop filter, obtaining ABCD matrix and DAC timings. \n",
    "\n",
    " * We map the synthesized NTF to a discrete-time equivalent. The criterion for equivalence is set in `mapCtoD`: the sampled pulse response of the CT system must be identical to the impulse response of the DT system."
   ]
  },
  {
   "cell_type": "code",
   "execution_count": null,
   "metadata": {},
   "outputs": [],
   "source": [
    "print('Mapping  to continuous-time... ')\n",
    "ABCDc, tdac2 = realizeNTF_ct(ntf0, form, tdac)\n",
    "Ac, Bc, Cc, Dc = partitionABCD(ABCDc)\n",
    "sys_c = []\n",
    "for i in range(Bc.shape[1]):\n",
    "    sys_c.append(ss2zpk(Ac, Bc, Cc, Dc, input=i))\n",
    "print('done.')\n",
    "print('ABCD matrix:')\n",
    "print(ABCDc)\n",
    "print(\"DAC timing (tdac2):\")\n",
    "print(tdac2)"
   ]
  },
  {
   "cell_type": "code",
   "execution_count": null,
   "metadata": {},
   "outputs": [],
   "source": [
    "figure(figsize=plotsize)\n",
    "n_imp = 10\n",
    "y = -impL1(ntf0, n_imp)\n",
    "lollipop(np.arange(n_imp + 1), y)\n",
    "grid(True)\n",
    "dt = 1./16\n",
    "tppulse = np.vstack((np.zeros((1, 2)), tdac2[1:, :])).tolist()\n",
    "yy = -pulse(sys_c, tppulse, dt, n_imp).squeeze()\n",
    "t = np.linspace(0, n_imp + dt, 10/dt + 1)\n",
    "plot(t, yy, 'g', label='continuous-time')\n",
    "legend()\n",
    "title('Loop filter pulse/impulse responses (negated)');"
   ]
  },
  {
   "cell_type": "code",
   "execution_count": null,
   "metadata": {},
   "outputs": [],
   "source": [
    "sys_d, Gp = mapCtoD(ABCDc, tdac2)\n",
    "ABCD = np.vstack((\n",
    "                  np.hstack((sys_d[0], sys_d[1])),\n",
    "                  np.hstack((sys_d[2], sys_d[3]))\n",
    "                ))\n",
    "ntf, G = calculateTF(ABCD)\n",
    "ntf = cancelPZ(ntf)\n",
    "figure(figsize=plotsize)\n",
    "DocumentNTF(ntf0, osr, f0)\n",
    "subplot(121)\n",
    "plotPZ(ntf, 'c', 10)\n",
    "plotPZ(ntf0, 'k')\n",
    "\n",
    "L0 = sys_c[0]\n",
    "f = linspace(0, 0.5)\n",
    "G = evalTFP(L0, ntf, f)\n",
    "subplot(122)\n",
    "plot(f, dbv(G), 'm')\n",
    "title('NTF and STF');"
   ]
  },
  {
   "cell_type": "code",
   "execution_count": null,
   "metadata": {},
   "outputs": [],
   "source": [
    "print('Re-evaluating the SNR... ')\n",
    "snrR, ampR = simulateSNR(ABCD, osr, None, f0, nlev)\n",
    "print('done')"
   ]
  },
  {
   "cell_type": "code",
   "execution_count": null,
   "metadata": {},
   "outputs": [],
   "source": [
    "figure(figsize=plotsize)\n",
    "plot(ampR, snrR, 'o-')\n",
    "plot(amp, snr, '-')\n",
    "peak_snrR, peak_ampR = peakSNR(snrR, ampR)\n",
    "msg = 'Peak SNR %.1fdB at amp = %-.1fdB' % (peak_snrR, peak_ampR)\n",
    "text(peak_ampR - 10, peak_snrR, msg, horizontalalignment='right', verticalalignment='bottom');\n",
    "figureMagic([-80, 0], 10, 1, [0, 80], 10, 1, None,'SQNR vs. Input Amplitude')\n",
    "xlabel('Input Amplitude (dBFS)')\n",
    "ylabel('SNR (dB)')\n",
    "title('Continuous-Time Implementation');"
   ]
  },
  {
   "cell_type": "markdown",
   "metadata": {},
   "source": [
    "## Dynamic range scaling"
   ]
  },
  {
   "cell_type": "code",
   "execution_count": null,
   "metadata": {
    "scrolled": true
   },
   "outputs": [],
   "source": [
    "print('Doing dynamic range scaling... ')\n",
    "ABCDs, umax, S = scaleABCD(ABCD, nlev, f0, 1, None, None, 10000.0)\n",
    "S = S[:order, :order]\n",
    "Sinv = inv(S)\n",
    "Acs = np.dot(np.dot(S, Ac), Sinv)\n",
    "Bcs = np.dot(S, Bc)\n",
    "Ccs = np.dot(Cc, Sinv)\n",
    "ABCDcs = np.vstack((np.hstack((Acs, Bcs)),\n",
    "                    np.hstack((Ccs, Dc))\n",
    "                  ))\n",
    "sys_cs = (Acs, Bcs, Ccs, Dc)\n",
    "print('Done.')\n",
    "print(\"During scaling, umax was found to be %g\"% umax)\n",
    "print(\"Scaled ABCD matrix:\")\n",
    "print(ABCDcs)"
   ]
  },
  {
   "cell_type": "markdown",
   "metadata": {},
   "source": [
    "## Conclusions: synthesis results\n",
    "\n",
    "The ADC parameters were found to be:"
   ]
  },
  {
   "cell_type": "code",
   "execution_count": null,
   "metadata": {
    "scrolled": false
   },
   "outputs": [],
   "source": [
    "adc = {\n",
    "    'order':order,\n",
    "    'osr':osr,\n",
    "    'M':M,\n",
    "    'f0':f0,\n",
    "    'ntf':ntf,\n",
    "    'ABCD':ABCD,\n",
    "    'umax':umax,\n",
    "    'peak_snr':peak_snr,\n",
    "    'form':form,\n",
    "    'ABCDc':ABCDc,\n",
    "    'tdac':tdac,\n",
    "    'tdac2':tdac2,\n",
    "    'L0':L0,\n",
    "    'sys_c':sys_c,\n",
    "    'ABCDcs':ABCDcs,\n",
    "    'sys_cs':sys_cs\n",
    "}\n",
    "for k in sort(list(adc.keys())):\n",
    "    print(\"%s:\" % k)\n",
    "    if str(adc[k]).count('\\n'):\n",
    "        print(\"\")\n",
    "    print(adc[k])"
   ]
  },
  {
   "cell_type": "markdown",
   "metadata": {},
   "source": [
    "### System version information"
   ]
  },
  {
   "cell_type": "code",
   "execution_count": null,
   "metadata": {},
   "outputs": [],
   "source": [
    "%version_information numpy, scipy, matplotlib, deltasigma, cython"
   ]
  },
  {
   "cell_type": "code",
   "execution_count": null,
   "metadata": {},
   "outputs": [],
   "source": []
  }
 ],
 "metadata": {
  "kernelspec": {
   "display_name": "Python 3",
   "language": "python",
   "name": "python3"
  },
  "language_info": {
   "codemirror_mode": {
    "name": "ipython",
    "version": 3
   },
   "file_extension": ".py",
   "mimetype": "text/x-python",
   "name": "python",
   "nbconvert_exporter": "python",
   "pygments_lexer": "ipython3",
   "version": "3.7.4"
  }
 },
 "nbformat": 4,
 "nbformat_minor": 1
}
